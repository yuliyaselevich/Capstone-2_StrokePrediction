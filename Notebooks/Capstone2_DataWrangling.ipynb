{
 "cells": [
  {
   "cell_type": "markdown",
   "id": "e6c37f50",
   "metadata": {},
   "source": [
    "### Data Wrangling"
   ]
  },
  {
   "cell_type": "code",
   "execution_count": 29,
   "id": "530c3c04",
   "metadata": {},
   "outputs": [],
   "source": [
    "import numpy as np \n",
    "import pandas as pd\n",
    "import matplotlib.pyplot as plt\n",
    "import seaborn as sns\n",
    "import os"
   ]
  },
  {
   "cell_type": "code",
   "execution_count": 30,
   "id": "ce788796",
   "metadata": {},
   "outputs": [],
   "source": [
    "data = pd.read_csv('C:/Users/Julia/Documents/_DATA SCIENCE/_Capstones/Capstone 2/healthcare-dataset-stroke-data.csv')"
   ]
  },
  {
   "cell_type": "code",
   "execution_count": 31,
   "id": "c937c2ff",
   "metadata": {
    "scrolled": false
   },
   "outputs": [
    {
     "name": "stdout",
     "output_type": "stream",
     "text": [
      "<class 'pandas.core.frame.DataFrame'>\n",
      "RangeIndex: 5110 entries, 0 to 5109\n",
      "Data columns (total 12 columns):\n",
      " #   Column             Non-Null Count  Dtype  \n",
      "---  ------             --------------  -----  \n",
      " 0   id                 5110 non-null   int64  \n",
      " 1   gender             5110 non-null   object \n",
      " 2   age                5110 non-null   float64\n",
      " 3   hypertension       5110 non-null   int64  \n",
      " 4   heart_disease      5110 non-null   int64  \n",
      " 5   ever_married       5110 non-null   object \n",
      " 6   work_type          5110 non-null   object \n",
      " 7   Residence_type     5110 non-null   object \n",
      " 8   avg_glucose_level  5110 non-null   float64\n",
      " 9   bmi                4909 non-null   float64\n",
      " 10  smoking_status     5110 non-null   object \n",
      " 11  stroke             5110 non-null   int64  \n",
      "dtypes: float64(3), int64(4), object(5)\n",
      "memory usage: 479.2+ KB\n"
     ]
    }
   ],
   "source": [
    "data.head()\n",
    "data.info()"
   ]
  },
  {
   "cell_type": "markdown",
   "id": "cca52c35",
   "metadata": {},
   "source": [
    "## Dealing with outliers and irrelevant data"
   ]
  },
  {
   "cell_type": "markdown",
   "id": "63cad23a",
   "metadata": {},
   "source": [
    "### First I want to check if there are duplicate values in the id column to be sure that the information for the same patient isn't repeated twice."
   ]
  },
  {
   "cell_type": "code",
   "execution_count": 32,
   "id": "bde7dc03",
   "metadata": {},
   "outputs": [
    {
     "data": {
      "text/plain": [
       "False"
      ]
     },
     "execution_count": 32,
     "metadata": {},
     "output_type": "execute_result"
    }
   ],
   "source": [
    "is_duplicate = data['id'].duplicated().any()\n",
    "is_duplicate"
   ]
  },
  {
   "cell_type": "markdown",
   "id": "c8d96fb3",
   "metadata": {},
   "source": [
    "### There are no duplicate id\n",
    "### I think we can drop 'id' column as it doesn't provide any useful information."
   ]
  },
  {
   "cell_type": "code",
   "execution_count": 33,
   "id": "75c3a94a",
   "metadata": {},
   "outputs": [
    {
     "name": "stderr",
     "output_type": "stream",
     "text": [
      "C:\\Users\\Julia\\AppData\\Local\\Temp/ipykernel_26264/1676501675.py:1: FutureWarning: In a future version of pandas all arguments of DataFrame.drop except for the argument 'labels' will be keyword-only\n",
      "  data = data.drop('id', 1)\n"
     ]
    }
   ],
   "source": [
    "data = data.drop('id', 1)"
   ]
  },
  {
   "cell_type": "code",
   "execution_count": 34,
   "id": "7b277632",
   "metadata": {},
   "outputs": [
    {
     "data": {
      "text/html": [
       "<div>\n",
       "<style scoped>\n",
       "    .dataframe tbody tr th:only-of-type {\n",
       "        vertical-align: middle;\n",
       "    }\n",
       "\n",
       "    .dataframe tbody tr th {\n",
       "        vertical-align: top;\n",
       "    }\n",
       "\n",
       "    .dataframe thead th {\n",
       "        text-align: right;\n",
       "    }\n",
       "</style>\n",
       "<table border=\"1\" class=\"dataframe\">\n",
       "  <thead>\n",
       "    <tr style=\"text-align: right;\">\n",
       "      <th></th>\n",
       "      <th>age</th>\n",
       "      <th>hypertension</th>\n",
       "      <th>heart_disease</th>\n",
       "      <th>avg_glucose_level</th>\n",
       "      <th>bmi</th>\n",
       "      <th>stroke</th>\n",
       "    </tr>\n",
       "  </thead>\n",
       "  <tbody>\n",
       "    <tr>\n",
       "      <th>count</th>\n",
       "      <td>5110.000000</td>\n",
       "      <td>5110.000000</td>\n",
       "      <td>5110.000000</td>\n",
       "      <td>5110.000000</td>\n",
       "      <td>4909.000000</td>\n",
       "      <td>5110.000000</td>\n",
       "    </tr>\n",
       "    <tr>\n",
       "      <th>mean</th>\n",
       "      <td>43.226614</td>\n",
       "      <td>0.097456</td>\n",
       "      <td>0.054012</td>\n",
       "      <td>106.147677</td>\n",
       "      <td>28.893237</td>\n",
       "      <td>0.048728</td>\n",
       "    </tr>\n",
       "    <tr>\n",
       "      <th>std</th>\n",
       "      <td>22.612647</td>\n",
       "      <td>0.296607</td>\n",
       "      <td>0.226063</td>\n",
       "      <td>45.283560</td>\n",
       "      <td>7.854067</td>\n",
       "      <td>0.215320</td>\n",
       "    </tr>\n",
       "    <tr>\n",
       "      <th>min</th>\n",
       "      <td>0.080000</td>\n",
       "      <td>0.000000</td>\n",
       "      <td>0.000000</td>\n",
       "      <td>55.120000</td>\n",
       "      <td>10.300000</td>\n",
       "      <td>0.000000</td>\n",
       "    </tr>\n",
       "    <tr>\n",
       "      <th>25%</th>\n",
       "      <td>25.000000</td>\n",
       "      <td>0.000000</td>\n",
       "      <td>0.000000</td>\n",
       "      <td>77.245000</td>\n",
       "      <td>23.500000</td>\n",
       "      <td>0.000000</td>\n",
       "    </tr>\n",
       "    <tr>\n",
       "      <th>50%</th>\n",
       "      <td>45.000000</td>\n",
       "      <td>0.000000</td>\n",
       "      <td>0.000000</td>\n",
       "      <td>91.885000</td>\n",
       "      <td>28.100000</td>\n",
       "      <td>0.000000</td>\n",
       "    </tr>\n",
       "    <tr>\n",
       "      <th>75%</th>\n",
       "      <td>61.000000</td>\n",
       "      <td>0.000000</td>\n",
       "      <td>0.000000</td>\n",
       "      <td>114.090000</td>\n",
       "      <td>33.100000</td>\n",
       "      <td>0.000000</td>\n",
       "    </tr>\n",
       "    <tr>\n",
       "      <th>max</th>\n",
       "      <td>82.000000</td>\n",
       "      <td>1.000000</td>\n",
       "      <td>1.000000</td>\n",
       "      <td>271.740000</td>\n",
       "      <td>97.600000</td>\n",
       "      <td>1.000000</td>\n",
       "    </tr>\n",
       "  </tbody>\n",
       "</table>\n",
       "</div>"
      ],
      "text/plain": [
       "               age  hypertension  heart_disease  avg_glucose_level  \\\n",
       "count  5110.000000   5110.000000    5110.000000        5110.000000   \n",
       "mean     43.226614      0.097456       0.054012         106.147677   \n",
       "std      22.612647      0.296607       0.226063          45.283560   \n",
       "min       0.080000      0.000000       0.000000          55.120000   \n",
       "25%      25.000000      0.000000       0.000000          77.245000   \n",
       "50%      45.000000      0.000000       0.000000          91.885000   \n",
       "75%      61.000000      0.000000       0.000000         114.090000   \n",
       "max      82.000000      1.000000       1.000000         271.740000   \n",
       "\n",
       "               bmi       stroke  \n",
       "count  4909.000000  5110.000000  \n",
       "mean     28.893237     0.048728  \n",
       "std       7.854067     0.215320  \n",
       "min      10.300000     0.000000  \n",
       "25%      23.500000     0.000000  \n",
       "50%      28.100000     0.000000  \n",
       "75%      33.100000     0.000000  \n",
       "max      97.600000     1.000000  "
      ]
     },
     "execution_count": 34,
     "metadata": {},
     "output_type": "execute_result"
    }
   ],
   "source": [
    "data.describe()"
   ]
  },
  {
   "cell_type": "code",
   "execution_count": 35,
   "id": "2313ea76",
   "metadata": {},
   "outputs": [
    {
     "data": {
      "image/png": "[encoded data removed]",
      "text/plain": [
       "<Figure size 1080x720 with 6 Axes>"
      ]
     },
     "metadata": {
      "needs_background": "light"
     },
     "output_type": "display_data"
    }
   ],
   "source": [
    "data.hist(figsize=(15,10))\n",
    "plt.subplots_adjust(hspace=0.5)"
   ]
  },
  {
   "cell_type": "markdown",
   "id": "7cce4756",
   "metadata": {},
   "source": [
    "### There are very low 'age' values, as well as very low 'bmi' values, suggesting that there are data for children included in this dataset. "
   ]
  },
  {
   "cell_type": "code",
   "execution_count": 36,
   "id": "97210f6f",
   "metadata": {},
   "outputs": [
    {
     "data": {
      "text/plain": [
       "array(['Private', 'Self-employed', 'Govt_job', 'children', 'Never_worked'],\n",
       "      dtype=object)"
      ]
     },
     "execution_count": 36,
     "metadata": {},
     "output_type": "execute_result"
    }
   ],
   "source": [
    "unique_val = data['work_type'].unique()\n",
    "unique_val"
   ]
  },
  {
   "cell_type": "markdown",
   "id": "8825ca4b",
   "metadata": {},
   "source": [
    "### There is a 'children' category in a 'work_type' column.\n",
    "### Next I'm going to check which age values correspond to 'children' value to make sure that data is in fact on children. "
   ]
  },
  {
   "cell_type": "code",
   "execution_count": 37,
   "id": "5e9a07e7",
   "metadata": {},
   "outputs": [
    {
     "data": {
      "text/plain": [
       "count    687.000000\n",
       "mean       6.841339\n",
       "std        4.533364\n",
       "min        0.080000\n",
       "25%        2.000000\n",
       "50%        6.000000\n",
       "75%       11.000000\n",
       "max       16.000000\n",
       "Name: age, dtype: float64"
      ]
     },
     "execution_count": 37,
     "metadata": {},
     "output_type": "execute_result"
    }
   ],
   "source": [
    "ages_of_children = data.loc[data['work_type'] == 'children','age']\n",
    "ages_of_children.describe()"
   ]
  },
  {
   "cell_type": "markdown",
   "id": "459b3698",
   "metadata": {},
   "source": [
    "### Age range for 'children' category is 0.08-16\n",
    "### Even though it is possible for a child to have a stroke, but it is very rare and normally caused by completely different reasons than those being studied in this project. Therefore I think it is appropriate to drop rows that contain data on children patients. "
   ]
  },
  {
   "cell_type": "code",
   "execution_count": 38,
   "id": "fed79181",
   "metadata": {},
   "outputs": [],
   "source": [
    "data_adult = data[data.work_type != 'children']"
   ]
  },
  {
   "cell_type": "code",
   "execution_count": 39,
   "id": "ed4c2abd",
   "metadata": {},
   "outputs": [
    {
     "data": {
      "text/plain": [
       "count    4423.000000\n",
       "mean       48.878137\n",
       "std        18.707171\n",
       "min         7.000000\n",
       "25%        34.000000\n",
       "50%        49.000000\n",
       "75%        63.000000\n",
       "max        82.000000\n",
       "Name: age, dtype: float64"
      ]
     },
     "execution_count": 39,
     "metadata": {},
     "output_type": "execute_result"
    }
   ],
   "source": [
    "data_adult['age'].describe().T"
   ]
  },
  {
   "cell_type": "markdown",
   "id": "cd7065d1",
   "metadata": {},
   "source": [
    "### Even though I dropped 'children' category, data above show that there are still low 'age' values, therefore I will use maximum age for 'children' category (16) as a threshold and will drop all rows with ages 16 and below"
   ]
  },
  {
   "cell_type": "code",
   "execution_count": 40,
   "id": "47e54e99",
   "metadata": {},
   "outputs": [],
   "source": [
    "data_adult = data_adult[data_adult.age > 16]"
   ]
  },
  {
   "cell_type": "code",
   "execution_count": 41,
   "id": "9bf972c4",
   "metadata": {},
   "outputs": [
    {
     "data": {
      "text/html": [
       "<div>\n",
       "<style scoped>\n",
       "    .dataframe tbody tr th:only-of-type {\n",
       "        vertical-align: middle;\n",
       "    }\n",
       "\n",
       "    .dataframe tbody tr th {\n",
       "        vertical-align: top;\n",
       "    }\n",
       "\n",
       "    .dataframe thead th {\n",
       "        text-align: right;\n",
       "    }\n",
       "</style>\n",
       "<table border=\"1\" class=\"dataframe\">\n",
       "  <thead>\n",
       "    <tr style=\"text-align: right;\">\n",
       "      <th></th>\n",
       "      <th>gender</th>\n",
       "      <th>age</th>\n",
       "      <th>hypertension</th>\n",
       "      <th>heart_disease</th>\n",
       "      <th>ever_married</th>\n",
       "      <th>work_type</th>\n",
       "      <th>Residence_type</th>\n",
       "      <th>avg_glucose_level</th>\n",
       "      <th>bmi</th>\n",
       "      <th>smoking_status</th>\n",
       "      <th>stroke</th>\n",
       "    </tr>\n",
       "  </thead>\n",
       "  <tbody>\n",
       "    <tr>\n",
       "      <th>270</th>\n",
       "      <td>Female</td>\n",
       "      <td>57.0</td>\n",
       "      <td>1</td>\n",
       "      <td>0</td>\n",
       "      <td>Yes</td>\n",
       "      <td>Private</td>\n",
       "      <td>Rural</td>\n",
       "      <td>129.54</td>\n",
       "      <td>60.9</td>\n",
       "      <td>smokes</td>\n",
       "      <td>0</td>\n",
       "    </tr>\n",
       "    <tr>\n",
       "      <th>358</th>\n",
       "      <td>Male</td>\n",
       "      <td>52.0</td>\n",
       "      <td>0</td>\n",
       "      <td>0</td>\n",
       "      <td>Yes</td>\n",
       "      <td>Self-employed</td>\n",
       "      <td>Urban</td>\n",
       "      <td>78.40</td>\n",
       "      <td>64.8</td>\n",
       "      <td>never smoked</td>\n",
       "      <td>0</td>\n",
       "    </tr>\n",
       "    <tr>\n",
       "      <th>466</th>\n",
       "      <td>Female</td>\n",
       "      <td>61.0</td>\n",
       "      <td>1</td>\n",
       "      <td>0</td>\n",
       "      <td>Yes</td>\n",
       "      <td>Private</td>\n",
       "      <td>Rural</td>\n",
       "      <td>170.05</td>\n",
       "      <td>60.2</td>\n",
       "      <td>smokes</td>\n",
       "      <td>0</td>\n",
       "    </tr>\n",
       "    <tr>\n",
       "      <th>544</th>\n",
       "      <td>Male</td>\n",
       "      <td>42.0</td>\n",
       "      <td>0</td>\n",
       "      <td>0</td>\n",
       "      <td>Yes</td>\n",
       "      <td>Private</td>\n",
       "      <td>Rural</td>\n",
       "      <td>210.48</td>\n",
       "      <td>71.9</td>\n",
       "      <td>never smoked</td>\n",
       "      <td>0</td>\n",
       "    </tr>\n",
       "    <tr>\n",
       "      <th>928</th>\n",
       "      <td>Female</td>\n",
       "      <td>23.0</td>\n",
       "      <td>1</td>\n",
       "      <td>0</td>\n",
       "      <td>No</td>\n",
       "      <td>Private</td>\n",
       "      <td>Urban</td>\n",
       "      <td>70.03</td>\n",
       "      <td>78.0</td>\n",
       "      <td>smokes</td>\n",
       "      <td>0</td>\n",
       "    </tr>\n",
       "    <tr>\n",
       "      <th>1559</th>\n",
       "      <td>Female</td>\n",
       "      <td>53.0</td>\n",
       "      <td>0</td>\n",
       "      <td>0</td>\n",
       "      <td>Yes</td>\n",
       "      <td>Private</td>\n",
       "      <td>Rural</td>\n",
       "      <td>72.63</td>\n",
       "      <td>66.8</td>\n",
       "      <td>Unknown</td>\n",
       "      <td>0</td>\n",
       "    </tr>\n",
       "    <tr>\n",
       "      <th>2128</th>\n",
       "      <td>Male</td>\n",
       "      <td>17.0</td>\n",
       "      <td>1</td>\n",
       "      <td>0</td>\n",
       "      <td>No</td>\n",
       "      <td>Private</td>\n",
       "      <td>Rural</td>\n",
       "      <td>61.67</td>\n",
       "      <td>97.6</td>\n",
       "      <td>Unknown</td>\n",
       "      <td>0</td>\n",
       "    </tr>\n",
       "    <tr>\n",
       "      <th>2764</th>\n",
       "      <td>Female</td>\n",
       "      <td>24.0</td>\n",
       "      <td>0</td>\n",
       "      <td>0</td>\n",
       "      <td>Yes</td>\n",
       "      <td>Private</td>\n",
       "      <td>Urban</td>\n",
       "      <td>85.55</td>\n",
       "      <td>63.3</td>\n",
       "      <td>never smoked</td>\n",
       "      <td>0</td>\n",
       "    </tr>\n",
       "    <tr>\n",
       "      <th>2840</th>\n",
       "      <td>Female</td>\n",
       "      <td>52.0</td>\n",
       "      <td>0</td>\n",
       "      <td>0</td>\n",
       "      <td>Yes</td>\n",
       "      <td>Private</td>\n",
       "      <td>Urban</td>\n",
       "      <td>98.27</td>\n",
       "      <td>61.2</td>\n",
       "      <td>Unknown</td>\n",
       "      <td>0</td>\n",
       "    </tr>\n",
       "    <tr>\n",
       "      <th>3825</th>\n",
       "      <td>Female</td>\n",
       "      <td>52.0</td>\n",
       "      <td>0</td>\n",
       "      <td>0</td>\n",
       "      <td>Yes</td>\n",
       "      <td>Private</td>\n",
       "      <td>Rural</td>\n",
       "      <td>118.46</td>\n",
       "      <td>61.6</td>\n",
       "      <td>smokes</td>\n",
       "      <td>0</td>\n",
       "    </tr>\n",
       "    <tr>\n",
       "      <th>4188</th>\n",
       "      <td>Female</td>\n",
       "      <td>27.0</td>\n",
       "      <td>0</td>\n",
       "      <td>0</td>\n",
       "      <td>Yes</td>\n",
       "      <td>Private</td>\n",
       "      <td>Rural</td>\n",
       "      <td>57.96</td>\n",
       "      <td>64.4</td>\n",
       "      <td>never smoked</td>\n",
       "      <td>0</td>\n",
       "    </tr>\n",
       "    <tr>\n",
       "      <th>4209</th>\n",
       "      <td>Male</td>\n",
       "      <td>38.0</td>\n",
       "      <td>1</td>\n",
       "      <td>0</td>\n",
       "      <td>Yes</td>\n",
       "      <td>Private</td>\n",
       "      <td>Rural</td>\n",
       "      <td>56.90</td>\n",
       "      <td>92.0</td>\n",
       "      <td>never smoked</td>\n",
       "      <td>0</td>\n",
       "    </tr>\n",
       "    <tr>\n",
       "      <th>4838</th>\n",
       "      <td>Female</td>\n",
       "      <td>51.0</td>\n",
       "      <td>0</td>\n",
       "      <td>0</td>\n",
       "      <td>Yes</td>\n",
       "      <td>Private</td>\n",
       "      <td>Urban</td>\n",
       "      <td>107.72</td>\n",
       "      <td>60.9</td>\n",
       "      <td>Unknown</td>\n",
       "      <td>0</td>\n",
       "    </tr>\n",
       "  </tbody>\n",
       "</table>\n",
       "</div>"
      ],
      "text/plain": [
       "      gender   age  hypertension  heart_disease ever_married      work_type  \\\n",
       "270   Female  57.0             1              0          Yes        Private   \n",
       "358     Male  52.0             0              0          Yes  Self-employed   \n",
       "466   Female  61.0             1              0          Yes        Private   \n",
       "544     Male  42.0             0              0          Yes        Private   \n",
       "928   Female  23.0             1              0           No        Private   \n",
       "1559  Female  53.0             0              0          Yes        Private   \n",
       "2128    Male  17.0             1              0           No        Private   \n",
       "2764  Female  24.0             0              0          Yes        Private   \n",
       "2840  Female  52.0             0              0          Yes        Private   \n",
       "3825  Female  52.0             0              0          Yes        Private   \n",
       "4188  Female  27.0             0              0          Yes        Private   \n",
       "4209    Male  38.0             1              0          Yes        Private   \n",
       "4838  Female  51.0             0              0          Yes        Private   \n",
       "\n",
       "     Residence_type  avg_glucose_level   bmi smoking_status  stroke  \n",
       "270           Rural             129.54  60.9         smokes       0  \n",
       "358           Urban              78.40  64.8   never smoked       0  \n",
       "466           Rural             170.05  60.2         smokes       0  \n",
       "544           Rural             210.48  71.9   never smoked       0  \n",
       "928           Urban              70.03  78.0         smokes       0  \n",
       "1559          Rural              72.63  66.8        Unknown       0  \n",
       "2128          Rural              61.67  97.6        Unknown       0  \n",
       "2764          Urban              85.55  63.3   never smoked       0  \n",
       "2840          Urban              98.27  61.2        Unknown       0  \n",
       "3825          Rural             118.46  61.6         smokes       0  \n",
       "4188          Rural              57.96  64.4   never smoked       0  \n",
       "4209          Rural              56.90  92.0   never smoked       0  \n",
       "4838          Urban             107.72  60.9        Unknown       0  "
      ]
     },
     "execution_count": 41,
     "metadata": {},
     "output_type": "execute_result"
    }
   ],
   "source": [
    "data_adult.describe().T\n",
    "data_adult[data_adult.bmi > 60]"
   ]
  },
  {
   "cell_type": "code",
   "execution_count": 42,
   "id": "b6d30c33",
   "metadata": {},
   "outputs": [
    {
     "data": {
      "text/html": [
       "<div>\n",
       "<style scoped>\n",
       "    .dataframe tbody tr th:only-of-type {\n",
       "        vertical-align: middle;\n",
       "    }\n",
       "\n",
       "    .dataframe tbody tr th {\n",
       "        vertical-align: top;\n",
       "    }\n",
       "\n",
       "    .dataframe thead th {\n",
       "        text-align: right;\n",
       "    }\n",
       "</style>\n",
       "<table border=\"1\" class=\"dataframe\">\n",
       "  <thead>\n",
       "    <tr style=\"text-align: right;\">\n",
       "      <th></th>\n",
       "      <th>count</th>\n",
       "      <th>mean</th>\n",
       "      <th>std</th>\n",
       "      <th>min</th>\n",
       "      <th>25%</th>\n",
       "      <th>50%</th>\n",
       "      <th>75%</th>\n",
       "      <th>max</th>\n",
       "    </tr>\n",
       "  </thead>\n",
       "  <tbody>\n",
       "    <tr>\n",
       "      <th>age</th>\n",
       "      <td>4314.0</td>\n",
       "      <td>49.740380</td>\n",
       "      <td>18.126633</td>\n",
       "      <td>17.00</td>\n",
       "      <td>35.0000</td>\n",
       "      <td>50.000</td>\n",
       "      <td>64.0000</td>\n",
       "      <td>82.00</td>\n",
       "    </tr>\n",
       "    <tr>\n",
       "      <th>hypertension</th>\n",
       "      <td>4314.0</td>\n",
       "      <td>0.115438</td>\n",
       "      <td>0.319587</td>\n",
       "      <td>0.00</td>\n",
       "      <td>0.0000</td>\n",
       "      <td>0.000</td>\n",
       "      <td>0.0000</td>\n",
       "      <td>1.00</td>\n",
       "    </tr>\n",
       "    <tr>\n",
       "      <th>heart_disease</th>\n",
       "      <td>4314.0</td>\n",
       "      <td>0.063746</td>\n",
       "      <td>0.244328</td>\n",
       "      <td>0.00</td>\n",
       "      <td>0.0000</td>\n",
       "      <td>0.000</td>\n",
       "      <td>0.0000</td>\n",
       "      <td>1.00</td>\n",
       "    </tr>\n",
       "    <tr>\n",
       "      <th>avg_glucose_level</th>\n",
       "      <td>4314.0</td>\n",
       "      <td>108.234525</td>\n",
       "      <td>47.565538</td>\n",
       "      <td>55.12</td>\n",
       "      <td>77.4525</td>\n",
       "      <td>92.295</td>\n",
       "      <td>115.9275</td>\n",
       "      <td>271.74</td>\n",
       "    </tr>\n",
       "    <tr>\n",
       "      <th>bmi</th>\n",
       "      <td>4131.0</td>\n",
       "      <td>30.419777</td>\n",
       "      <td>7.323433</td>\n",
       "      <td>11.30</td>\n",
       "      <td>25.4000</td>\n",
       "      <td>29.200</td>\n",
       "      <td>34.1000</td>\n",
       "      <td>97.60</td>\n",
       "    </tr>\n",
       "    <tr>\n",
       "      <th>stroke</th>\n",
       "      <td>4314.0</td>\n",
       "      <td>0.057255</td>\n",
       "      <td>0.232357</td>\n",
       "      <td>0.00</td>\n",
       "      <td>0.0000</td>\n",
       "      <td>0.000</td>\n",
       "      <td>0.0000</td>\n",
       "      <td>1.00</td>\n",
       "    </tr>\n",
       "  </tbody>\n",
       "</table>\n",
       "</div>"
      ],
      "text/plain": [
       "                    count        mean        std    min      25%     50%  \\\n",
       "age                4314.0   49.740380  18.126633  17.00  35.0000  50.000   \n",
       "hypertension       4314.0    0.115438   0.319587   0.00   0.0000   0.000   \n",
       "heart_disease      4314.0    0.063746   0.244328   0.00   0.0000   0.000   \n",
       "avg_glucose_level  4314.0  108.234525  47.565538  55.12  77.4525  92.295   \n",
       "bmi                4131.0   30.419777   7.323433  11.30  25.4000  29.200   \n",
       "stroke             4314.0    0.057255   0.232357   0.00   0.0000   0.000   \n",
       "\n",
       "                        75%     max  \n",
       "age                 64.0000   82.00  \n",
       "hypertension         0.0000    1.00  \n",
       "heart_disease        0.0000    1.00  \n",
       "avg_glucose_level  115.9275  271.74  \n",
       "bmi                 34.1000   97.60  \n",
       "stroke               0.0000    1.00  "
      ]
     },
     "execution_count": 42,
     "metadata": {},
     "output_type": "execute_result"
    }
   ],
   "source": [
    "data_adult.describe().T"
   ]
  },
  {
   "cell_type": "code",
   "execution_count": 43,
   "id": "f98c5ac8",
   "metadata": {},
   "outputs": [
    {
     "data": {
      "text/html": [
       "<div>\n",
       "<style scoped>\n",
       "    .dataframe tbody tr th:only-of-type {\n",
       "        vertical-align: middle;\n",
       "    }\n",
       "\n",
       "    .dataframe tbody tr th {\n",
       "        vertical-align: top;\n",
       "    }\n",
       "\n",
       "    .dataframe thead th {\n",
       "        text-align: right;\n",
       "    }\n",
       "</style>\n",
       "<table border=\"1\" class=\"dataframe\">\n",
       "  <thead>\n",
       "    <tr style=\"text-align: right;\">\n",
       "      <th></th>\n",
       "      <th>gender</th>\n",
       "      <th>age</th>\n",
       "      <th>hypertension</th>\n",
       "      <th>heart_disease</th>\n",
       "      <th>ever_married</th>\n",
       "      <th>work_type</th>\n",
       "      <th>Residence_type</th>\n",
       "      <th>avg_glucose_level</th>\n",
       "      <th>bmi</th>\n",
       "      <th>smoking_status</th>\n",
       "      <th>stroke</th>\n",
       "    </tr>\n",
       "  </thead>\n",
       "  <tbody>\n",
       "    <tr>\n",
       "      <th>0</th>\n",
       "      <td>Male</td>\n",
       "      <td>67.0</td>\n",
       "      <td>0</td>\n",
       "      <td>1</td>\n",
       "      <td>Yes</td>\n",
       "      <td>Private</td>\n",
       "      <td>Urban</td>\n",
       "      <td>228.69</td>\n",
       "      <td>36.6</td>\n",
       "      <td>formerly smoked</td>\n",
       "      <td>1</td>\n",
       "    </tr>\n",
       "    <tr>\n",
       "      <th>1</th>\n",
       "      <td>Female</td>\n",
       "      <td>61.0</td>\n",
       "      <td>0</td>\n",
       "      <td>0</td>\n",
       "      <td>Yes</td>\n",
       "      <td>Self-employed</td>\n",
       "      <td>Rural</td>\n",
       "      <td>202.21</td>\n",
       "      <td>NaN</td>\n",
       "      <td>never smoked</td>\n",
       "      <td>1</td>\n",
       "    </tr>\n",
       "    <tr>\n",
       "      <th>2</th>\n",
       "      <td>Male</td>\n",
       "      <td>80.0</td>\n",
       "      <td>0</td>\n",
       "      <td>1</td>\n",
       "      <td>Yes</td>\n",
       "      <td>Private</td>\n",
       "      <td>Rural</td>\n",
       "      <td>105.92</td>\n",
       "      <td>32.5</td>\n",
       "      <td>never smoked</td>\n",
       "      <td>1</td>\n",
       "    </tr>\n",
       "    <tr>\n",
       "      <th>3</th>\n",
       "      <td>Female</td>\n",
       "      <td>49.0</td>\n",
       "      <td>0</td>\n",
       "      <td>0</td>\n",
       "      <td>Yes</td>\n",
       "      <td>Private</td>\n",
       "      <td>Urban</td>\n",
       "      <td>171.23</td>\n",
       "      <td>34.4</td>\n",
       "      <td>smokes</td>\n",
       "      <td>1</td>\n",
       "    </tr>\n",
       "    <tr>\n",
       "      <th>4</th>\n",
       "      <td>Female</td>\n",
       "      <td>79.0</td>\n",
       "      <td>1</td>\n",
       "      <td>0</td>\n",
       "      <td>Yes</td>\n",
       "      <td>Self-employed</td>\n",
       "      <td>Rural</td>\n",
       "      <td>174.12</td>\n",
       "      <td>24.0</td>\n",
       "      <td>never smoked</td>\n",
       "      <td>1</td>\n",
       "    </tr>\n",
       "    <tr>\n",
       "      <th>...</th>\n",
       "      <td>...</td>\n",
       "      <td>...</td>\n",
       "      <td>...</td>\n",
       "      <td>...</td>\n",
       "      <td>...</td>\n",
       "      <td>...</td>\n",
       "      <td>...</td>\n",
       "      <td>...</td>\n",
       "      <td>...</td>\n",
       "      <td>...</td>\n",
       "      <td>...</td>\n",
       "    </tr>\n",
       "    <tr>\n",
       "      <th>5105</th>\n",
       "      <td>Female</td>\n",
       "      <td>80.0</td>\n",
       "      <td>1</td>\n",
       "      <td>0</td>\n",
       "      <td>Yes</td>\n",
       "      <td>Private</td>\n",
       "      <td>Urban</td>\n",
       "      <td>83.75</td>\n",
       "      <td>NaN</td>\n",
       "      <td>never smoked</td>\n",
       "      <td>0</td>\n",
       "    </tr>\n",
       "    <tr>\n",
       "      <th>5106</th>\n",
       "      <td>Female</td>\n",
       "      <td>81.0</td>\n",
       "      <td>0</td>\n",
       "      <td>0</td>\n",
       "      <td>Yes</td>\n",
       "      <td>Self-employed</td>\n",
       "      <td>Urban</td>\n",
       "      <td>125.20</td>\n",
       "      <td>40.0</td>\n",
       "      <td>never smoked</td>\n",
       "      <td>0</td>\n",
       "    </tr>\n",
       "    <tr>\n",
       "      <th>5107</th>\n",
       "      <td>Female</td>\n",
       "      <td>35.0</td>\n",
       "      <td>0</td>\n",
       "      <td>0</td>\n",
       "      <td>Yes</td>\n",
       "      <td>Self-employed</td>\n",
       "      <td>Rural</td>\n",
       "      <td>82.99</td>\n",
       "      <td>30.6</td>\n",
       "      <td>never smoked</td>\n",
       "      <td>0</td>\n",
       "    </tr>\n",
       "    <tr>\n",
       "      <th>5108</th>\n",
       "      <td>Male</td>\n",
       "      <td>51.0</td>\n",
       "      <td>0</td>\n",
       "      <td>0</td>\n",
       "      <td>Yes</td>\n",
       "      <td>Private</td>\n",
       "      <td>Rural</td>\n",
       "      <td>166.29</td>\n",
       "      <td>25.6</td>\n",
       "      <td>formerly smoked</td>\n",
       "      <td>0</td>\n",
       "    </tr>\n",
       "    <tr>\n",
       "      <th>5109</th>\n",
       "      <td>Female</td>\n",
       "      <td>44.0</td>\n",
       "      <td>0</td>\n",
       "      <td>0</td>\n",
       "      <td>Yes</td>\n",
       "      <td>Govt_job</td>\n",
       "      <td>Urban</td>\n",
       "      <td>85.28</td>\n",
       "      <td>26.2</td>\n",
       "      <td>Unknown</td>\n",
       "      <td>0</td>\n",
       "    </tr>\n",
       "  </tbody>\n",
       "</table>\n",
       "<p>4314 rows × 11 columns</p>\n",
       "</div>"
      ],
      "text/plain": [
       "      gender   age  hypertension  heart_disease ever_married      work_type  \\\n",
       "0       Male  67.0             0              1          Yes        Private   \n",
       "1     Female  61.0             0              0          Yes  Self-employed   \n",
       "2       Male  80.0             0              1          Yes        Private   \n",
       "3     Female  49.0             0              0          Yes        Private   \n",
       "4     Female  79.0             1              0          Yes  Self-employed   \n",
       "...      ...   ...           ...            ...          ...            ...   \n",
       "5105  Female  80.0             1              0          Yes        Private   \n",
       "5106  Female  81.0             0              0          Yes  Self-employed   \n",
       "5107  Female  35.0             0              0          Yes  Self-employed   \n",
       "5108    Male  51.0             0              0          Yes        Private   \n",
       "5109  Female  44.0             0              0          Yes       Govt_job   \n",
       "\n",
       "     Residence_type  avg_glucose_level   bmi   smoking_status  stroke  \n",
       "0             Urban             228.69  36.6  formerly smoked       1  \n",
       "1             Rural             202.21   NaN     never smoked       1  \n",
       "2             Rural             105.92  32.5     never smoked       1  \n",
       "3             Urban             171.23  34.4           smokes       1  \n",
       "4             Rural             174.12  24.0     never smoked       1  \n",
       "...             ...                ...   ...              ...     ...  \n",
       "5105          Urban              83.75   NaN     never smoked       0  \n",
       "5106          Urban             125.20  40.0     never smoked       0  \n",
       "5107          Rural              82.99  30.6     never smoked       0  \n",
       "5108          Rural             166.29  25.6  formerly smoked       0  \n",
       "5109          Urban              85.28  26.2          Unknown       0  \n",
       "\n",
       "[4314 rows x 11 columns]"
      ]
     },
     "execution_count": 43,
     "metadata": {},
     "output_type": "execute_result"
    }
   ],
   "source": [
    "data_adult"
   ]
  },
  {
   "cell_type": "code",
   "execution_count": 44,
   "id": "2036356a",
   "metadata": {},
   "outputs": [],
   "source": [
    "data_adult.reset_index(drop=True,inplace=True)"
   ]
  },
  {
   "cell_type": "code",
   "execution_count": 47,
   "id": "302b6c40",
   "metadata": {},
   "outputs": [],
   "source": [
    "data_adult.to_csv(r'C:/Users/Julia/Documents/_DATA SCIENCE/_Capstones/Capstone 2/Data_adult.csv', index=True,header=True)"
   ]
  },
  {
   "cell_type": "markdown",
   "id": "a5573d8f",
   "metadata": {},
   "source": [
    "# Next steps:\n",
    "## 1. Encoding categorical values\n",
    "## 2. Imputing missing values"
   ]
  },
  {
   "cell_type": "code",
   "execution_count": 16,
   "id": "4e789c82",
   "metadata": {},
   "outputs": [
    {
     "name": "stdout",
     "output_type": "stream",
     "text": [
      "avg_glucose_level\n",
      "Highest allowed 250.93113847921285\n",
      "Lowest allowed -34.46208887327947\n",
      "22\n",
      "bmi\n",
      "Highest allowed:  52.390076460042195\n",
      "Lowest allowed:  8.449478127224825\n",
      "58\n"
     ]
    }
   ],
   "source": [
    "print(\"avg_glucose_level\")\n",
    "upper_fence_glucose = data_adult[\"avg_glucose_level\"].mean() + 3*data_adult[\"avg_glucose_level\"].std()\n",
    "lower_fence_glucose = data_adult[\"avg_glucose_level\"].mean() - 3*data_adult[\"avg_glucose_level\"].std()\n",
    "print(\"Highest allowed\",upper_fence_glucose)\n",
    "print(\"Lowest allowed\", lower_fence_glucose)\n",
    "outliers_glucose = data_adult[(data_adult[\"avg_glucose_level\"] > upper_fence_glucose) | (data_adult[\"avg_glucose_level\"] < lower_fence_glucose)]\n",
    "print(outliers_glucose.shape[0])\n",
    "\n",
    "print(\"bmi\")\n",
    "upper_fence_bmi = data_adult[\"bmi\"].mean() + 3*data_adult[\"bmi\"].std()\n",
    "lower_fence_bmi = data_adult[\"bmi\"].mean() - 3*data_adult[\"bmi\"].std()\n",
    "print(\"Highest allowed: \", upper_fence_bmi)\n",
    "print(\"Lowest allowed: \", lower_fence_bmi)\n",
    "outliers_bmi = data_adult[(data_adult[\"bmi\"] > upper_fence_bmi) | (data_adult[\"bmi\"] < lower_fence_bmi)]\n",
    "print(outliers_bmi.shape[0])"
   ]
  },
  {
   "cell_type": "code",
   "execution_count": 17,
   "id": "9a4de112",
   "metadata": {},
   "outputs": [],
   "source": [
    "Q3 = np.quantile(data_adult['avg_glucose_level'], 0.75)\n",
    "Q1 = np.quantile(data_adult['avg_glucose_level'], 0.25)\n",
    "IQR = Q3 - Q1\n",
    "lower_range = Q1 - 1.5 * IQR\n",
    "upper_range = Q3 + 1.5 * IQR"
   ]
  },
  {
   "cell_type": "code",
   "execution_count": 18,
   "id": "d5569b1a",
   "metadata": {},
   "outputs": [
    {
     "name": "stdout",
     "output_type": "stream",
     "text": [
      "115.92750000000001 77.4525 38.47500000000001 19.739999999999988 173.64000000000001\n"
     ]
    }
   ],
   "source": [
    "print(Q3,Q1,IQR,lower_range,upper_range)"
   ]
  },
  {
   "cell_type": "code",
   "execution_count": 19,
   "id": "8c1a26c9",
   "metadata": {},
   "outputs": [
    {
     "data": {
      "text/plain": [
       "dtype('float64')"
      ]
     },
     "execution_count": 19,
     "metadata": {},
     "output_type": "execute_result"
    }
   ],
   "source": [
    "data_adult['avg_glucose_level'].dtype"
   ]
  },
  {
   "cell_type": "code",
   "execution_count": 20,
   "id": "e448d817",
   "metadata": {},
   "outputs": [],
   "source": [
    "Q3_bmi = np.quantile(data_adult['bmi'], 0.75)\n",
    "Q1_bmi = np.quantile(data_adult['bmi'], 0.25)\n",
    "IQR_bmi = Q3_bmi - Q1_bmi\n",
    "lower_range_bmi = Q1_bmi - 1.5 * IQR_bmi\n",
    "upper_range_bmi = Q3_bmi + 1.5 * IQR_bmi"
   ]
  },
  {
   "cell_type": "code",
   "execution_count": 21,
   "id": "650206eb",
   "metadata": {},
   "outputs": [
    {
     "name": "stdout",
     "output_type": "stream",
     "text": [
      "nan nan nan nan nan\n"
     ]
    }
   ],
   "source": [
    "print(Q3_bmi,Q1_bmi,IQR_bmi,lower_range_bmi,upper_range_bmi)"
   ]
  },
  {
   "cell_type": "code",
   "execution_count": 22,
   "id": "0fb72aa8",
   "metadata": {
    "scrolled": true
   },
   "outputs": [
    {
     "name": "stdout",
     "output_type": "stream",
     "text": [
      "\n",
      "Feature: gender \n",
      "\n",
      "Female    2613\n",
      "Male      1700\n",
      "Other        1\n",
      "Name: gender, dtype: int64\n",
      "\n",
      "Feature: ever_married \n",
      "\n",
      "Yes    3353\n",
      "No      961\n",
      "Name: ever_married, dtype: int64\n",
      "\n",
      "Feature: work_type \n",
      "\n",
      "Private          2840\n",
      "Self-employed     810\n",
      "Govt_job          654\n",
      "Never_worked       10\n",
      "Name: work_type, dtype: int64\n",
      "\n",
      "Feature: Residence_type \n",
      "\n",
      "Urban    2197\n",
      "Rural    2117\n",
      "Name: Residence_type, dtype: int64\n",
      "\n",
      "Feature: smoking_status \n",
      "\n",
      "never smoked       1779\n",
      "Unknown             887\n",
      "formerly smoked     864\n",
      "smokes              784\n",
      "Name: smoking_status, dtype: int64\n"
     ]
    }
   ],
   "source": [
    "categor_var = [\"gender\", \"ever_married\", \"work_type\", \"Residence_type\", \"smoking_status\"]\n",
    "for i in categor_var:\n",
    "    print(\"\\nFeature: %s \\n\" % (i))\n",
    "    print(data_adult[i].value_counts())"
   ]
  },
  {
   "cell_type": "markdown",
   "id": "154d57a3",
   "metadata": {},
   "source": [
    "### There is an outlier in gender column with value 'other' which can be dropped."
   ]
  },
  {
   "cell_type": "code",
   "execution_count": 23,
   "id": "a91cd189",
   "metadata": {},
   "outputs": [],
   "source": [
    "data_adult = data_adult[data_adult.gender != 'Other']"
   ]
  },
  {
   "cell_type": "code",
   "execution_count": 24,
   "id": "a9000650",
   "metadata": {},
   "outputs": [
    {
     "data": {
      "text/plain": [
       "gender               False\n",
       "age                  False\n",
       "hypertension         False\n",
       "heart_disease        False\n",
       "ever_married         False\n",
       "work_type            False\n",
       "Residence_type       False\n",
       "avg_glucose_level    False\n",
       "bmi                   True\n",
       "smoking_status       False\n",
       "stroke               False\n",
       "dtype: bool"
      ]
     },
     "execution_count": 24,
     "metadata": {},
     "output_type": "execute_result"
    }
   ],
   "source": [
    "data_adult.isna().any()"
   ]
  }
 ],
 "metadata": {
  "kernelspec": {
   "display_name": "Python 3 (ipykernel)",
   "language": "python",
   "name": "python3"
  },
  "language_info": {
   "codemirror_mode": {
    "name": "ipython",
    "version": 3
   },
   "file_extension": ".py",
   "mimetype": "text/x-python",
   "name": "python",
   "nbconvert_exporter": "python",
   "pygments_lexer": "ipython3",
   "version": "3.9.7"
  }
 },
 "nbformat": 4,
 "nbformat_minor": 5
}
