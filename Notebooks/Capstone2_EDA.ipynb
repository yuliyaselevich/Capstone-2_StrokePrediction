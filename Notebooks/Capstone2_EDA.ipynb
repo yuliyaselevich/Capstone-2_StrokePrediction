{
 "cells": [
  {
   "cell_type": "markdown",
   "id": "c1c37e6f",
   "metadata": {},
   "source": [
    "### Exploratory Data Analysis"
   ]
  },
  {
   "cell_type": "code",
   "execution_count": 1,
   "id": "46981ab8",
   "metadata": {},
   "outputs": [],
   "source": [
    "import numpy as np \n",
    "import pandas as pd\n",
    "import matplotlib.pyplot as plt\n",
    "import seaborn as sns\n",
    "import os\n",
    "data_adult=pd.read_csv('C:/Users/Julia/Documents/_DATA SCIENCE/_Capstones/Capstone 2/Data/Data_adult.csv',index_col=0)\n",
    "sns.set(style='ticks')\n",
    "%matplotlib inline "
   ]
  },
  {
   "cell_type": "code",
   "execution_count": 2,
   "id": "1f8e4f8e",
   "metadata": {},
   "outputs": [],
   "source": [
    "import warnings\n",
    "warnings.filterwarnings('ignore', category=UserWarning, append=True)\n",
    "warnings.filterwarnings('ignore', category=RuntimeWarning, append=True)\n",
    "warnings.filterwarnings('ignore', category=FutureWarning, append=True)\n",
    "warnings.filterwarnings('ignore',category=pd.io.pytables.PerformanceWarning)"
   ]
  },
  {
   "cell_type": "code",
   "execution_count": 3,
   "id": "b3807950",
   "metadata": {},
   "outputs": [
    {
     "name": "stdout",
     "output_type": "stream",
     "text": [
      "<class 'pandas.core.frame.DataFrame'>\n",
      "Int64Index: 4313 entries, 0 to 4313\n",
      "Data columns (total 11 columns):\n",
      " #   Column             Non-Null Count  Dtype  \n",
      "---  ------             --------------  -----  \n",
      " 0   gender             4313 non-null   object \n",
      " 1   age                4313 non-null   float64\n",
      " 2   hypertension       4313 non-null   int64  \n",
      " 3   heart_disease      4313 non-null   int64  \n",
      " 4   ever_married       4313 non-null   object \n",
      " 5   work_type          4313 non-null   object \n",
      " 6   Residence_type     4313 non-null   object \n",
      " 7   avg_glucose_level  4313 non-null   float64\n",
      " 8   bmi                4130 non-null   float64\n",
      " 9   smoking_status     4313 non-null   object \n",
      " 10  stroke             4313 non-null   int64  \n",
      "dtypes: float64(3), int64(3), object(5)\n",
      "memory usage: 404.3+ KB\n"
     ]
    }
   ],
   "source": [
    "data_adult.info()"
   ]
  },
  {
   "cell_type": "markdown",
   "id": "41f46b98",
   "metadata": {},
   "source": [
    "### Target feature:\n",
    "### Since the goal of this project is to predict occurence of stroke, target feature is 'stroke'. It has 2 values: 1 - when a patient had a stroke, and 0  - when a patient did not have a stroke."
   ]
  },
  {
   "cell_type": "code",
   "execution_count": 4,
   "id": "cf5b2257",
   "metadata": {},
   "outputs": [
    {
     "data": {
      "text/plain": [
       "0    94.273128\n",
       "1     5.726872\n",
       "Name: stroke, dtype: float64"
      ]
     },
     "execution_count": 4,
     "metadata": {},
     "output_type": "execute_result"
    }
   ],
   "source": [
    "data_adult['stroke'].value_counts(normalize=True)*100"
   ]
  },
  {
   "cell_type": "markdown",
   "id": "1c43e86a",
   "metadata": {},
   "source": [
    "### It is obvious that target feature is highly imbalanced with only ~ 5.72 % of samples having a value of 1. This is a major issue and may require application of specialized feature engineering techniques as well as careful model selection and it may affect a perfomance of a selected model. "
   ]
  },
  {
   "cell_type": "markdown",
   "id": "0d477687",
   "metadata": {},
   "source": [
    "### Dealing with missing values"
   ]
  },
  {
   "cell_type": "code",
   "execution_count": 5,
   "id": "8aa7ba41",
   "metadata": {},
   "outputs": [
    {
     "data": {
      "text/plain": [
       "gender               False\n",
       "age                  False\n",
       "hypertension         False\n",
       "heart_disease        False\n",
       "ever_married         False\n",
       "work_type            False\n",
       "Residence_type       False\n",
       "avg_glucose_level    False\n",
       "bmi                   True\n",
       "smoking_status       False\n",
       "stroke               False\n",
       "dtype: bool"
      ]
     },
     "execution_count": 5,
     "metadata": {},
     "output_type": "execute_result"
    }
   ],
   "source": [
    "data_adult.isna().any()"
   ]
  },
  {
   "cell_type": "markdown",
   "id": "b50045d0",
   "metadata": {},
   "source": [
    "### 'bmi' feature is the only one that has missing values"
   ]
  },
  {
   "cell_type": "code",
   "execution_count": 6,
   "id": "db9c590d",
   "metadata": {},
   "outputs": [
    {
     "data": {
      "text/plain": [
       "183"
      ]
     },
     "execution_count": 6,
     "metadata": {},
     "output_type": "execute_result"
    }
   ],
   "source": [
    "data_adult['bmi'].isna().sum()"
   ]
  },
  {
   "cell_type": "code",
   "execution_count": 7,
   "id": "55332ca3",
   "metadata": {},
   "outputs": [
    {
     "name": "stdout",
     "output_type": "stream",
     "text": [
      "Percentage of missing values in \"bmi\" feature: 4.24\n"
     ]
    }
   ],
   "source": [
    "percent_missing = data_adult['bmi'].isnull().sum() * 100 / len(data_adult)\n",
    "print('Percentage of missing values in \"bmi\" feature:', round(percent_missing,2))"
   ]
  },
  {
   "cell_type": "code",
   "execution_count": 8,
   "id": "458451e3",
   "metadata": {},
   "outputs": [
    {
     "data": {
      "text/plain": [
       "0    94.96368\n",
       "1     5.03632\n",
       "Name: stroke, dtype: float64"
      ]
     },
     "execution_count": 8,
     "metadata": {},
     "output_type": "execute_result"
    }
   ],
   "source": [
    "no_na = data_adult.dropna()\n",
    "no_na['stroke'].value_counts(normalize=True)*100"
   ]
  },
  {
   "cell_type": "markdown",
   "id": "71a46daf",
   "metadata": {},
   "source": [
    "### Even though percentage of missing values in a dataset is relatively small, it is not a good idea to simply drop rows with missing values, as this will make target feature even more imbalanced."
   ]
  },
  {
   "cell_type": "code",
   "execution_count": 9,
   "id": "4a1936a0",
   "metadata": {},
   "outputs": [
    {
     "data": {
      "text/plain": [
       "<AxesSubplot:>"
      ]
     },
     "execution_count": 9,
     "metadata": {},
     "output_type": "execute_result"
    },
    {
     "data": {
      "image/png": "[encoded data removed]",
      "text/plain": [
       "<Figure size 360x360 with 1 Axes>"
      ]
     },
     "metadata": {
      "needs_background": "light"
     },
     "output_type": "display_data"
    }
   ],
   "source": [
    "data_adult['bmi'].hist(figsize=(5,5))"
   ]
  },
  {
   "cell_type": "markdown",
   "id": "7b4bdf10",
   "metadata": {},
   "source": [
    "### Distribution of 'bmi' values is skewed, meaning that we cannot impute missing values with the mean."
   ]
  },
  {
   "cell_type": "code",
   "execution_count": 10,
   "id": "509399fe",
   "metadata": {},
   "outputs": [
    {
     "data": {
      "text/plain": [
       "<AxesSubplot:xlabel='stroke', ylabel='bmi'>"
      ]
     },
     "execution_count": 10,
     "metadata": {},
     "output_type": "execute_result"
    },
    {
     "data": {
      "image/png": "[encoded data removed]",
      "text/plain": [
       "<Figure size 432x288 with 1 Axes>"
      ]
     },
     "metadata": {
      "needs_background": "light"
     },
     "output_type": "display_data"
    }
   ],
   "source": [
    "sns.boxplot(x=\"stroke\", y=\"bmi\", data=data_adult)"
   ]
  },
  {
   "cell_type": "markdown",
   "id": "fdb52db5",
   "metadata": {},
   "source": [
    "### Since 'bmi' feature is scewed, the relationship between 'bmi' and target value is not clear. I think it would make sense to divide 'bmi' values into following categories:\n",
    "* below 18.5 – underweight\n",
    "* between 18.5 and 24.9 – healthy weight\n",
    "* between 25 and 29.9 – overweight\n",
    "* between 30 and 39.9 – obesity"
   ]
  },
  {
   "cell_type": "code",
   "execution_count": 11,
   "id": "d4ed74ab",
   "metadata": {},
   "outputs": [],
   "source": [
    "for val in data_adult['bmi']:\n",
    "    if val < 18.5:\n",
    "        data_adult['bmi'].replace(to_replace=val, value='underweight', inplace=True)\n",
    "    elif val >= 18.5 and val <= 24.9:\n",
    "        data_adult['bmi'].replace(to_replace=val, value='normal', inplace=True)\n",
    "    elif val >= 25 and val <= 29.9:\n",
    "        data_adult['bmi'].replace(to_replace=val, value='overweight', inplace=True)\n",
    "    elif val >= 30:\n",
    "        data_adult['bmi'].replace(to_replace=val, value='obesity', inplace=True)"
   ]
  },
  {
   "cell_type": "code",
   "execution_count": 12,
   "id": "2ef04d1a",
   "metadata": {},
   "outputs": [
    {
     "data": {
      "text/plain": [
       "array(['obesity', nan, 'normal', 'overweight', 'underweight'],\n",
       "      dtype=object)"
      ]
     },
     "execution_count": 12,
     "metadata": {},
     "output_type": "execute_result"
    }
   ],
   "source": [
    "data_adult['bmi'].unique()"
   ]
  },
  {
   "cell_type": "code",
   "execution_count": 13,
   "id": "2c501b8a",
   "metadata": {},
   "outputs": [
    {
     "data": {
      "text/plain": [
       "obesity        0.453027\n",
       "overweight     0.322276\n",
       "normal         0.215012\n",
       "underweight    0.009685\n",
       "Name: bmi, dtype: float64"
      ]
     },
     "execution_count": 13,
     "metadata": {},
     "output_type": "execute_result"
    }
   ],
   "source": [
    "data_adult['bmi'].value_counts(normalize=True)"
   ]
  },
  {
   "cell_type": "markdown",
   "id": "7347edc4",
   "metadata": {},
   "source": [
    "### Now that we've divided 'bmi' feature into categories, we can replace missing values using 'ffill' method which seems to be optimal."
   ]
  },
  {
   "cell_type": "code",
   "execution_count": 14,
   "id": "5c805a5f",
   "metadata": {},
   "outputs": [],
   "source": [
    "#data_adult['bmi']=data_adult['bmi'].fillna(data_adult['bmi'].mode()[0])"
   ]
  },
  {
   "cell_type": "code",
   "execution_count": 15,
   "id": "28a9b9f5",
   "metadata": {},
   "outputs": [],
   "source": [
    "data_adult['bmi']=data_adult['bmi'].fillna(method ='ffill')"
   ]
  },
  {
   "cell_type": "code",
   "execution_count": 16,
   "id": "17c6b1a0",
   "metadata": {},
   "outputs": [
    {
     "data": {
      "text/plain": [
       "<AxesSubplot:xlabel='bmi', ylabel='stroke'>"
      ]
     },
     "execution_count": 16,
     "metadata": {},
     "output_type": "execute_result"
    },
    {
     "data": {
      "image/png": "[encoded data removed]",
      "text/plain": [
       "<Figure size 432x288 with 1 Axes>"
      ]
     },
     "metadata": {
      "needs_background": "light"
     },
     "output_type": "display_data"
    }
   ],
   "source": [
    "sns.barplot(x='bmi',y='stroke',data=data_adult, order=[\"underweight\", \"normal\",\"overweight\",\"obesity\"])"
   ]
  },
  {
   "cell_type": "markdown",
   "id": "e81462c5",
   "metadata": {},
   "source": [
    "### Plot above clearly shows that 'bmi' categories 'overweight' and 'obesity' have higher occurence of value 1 in the target feature."
   ]
  },
  {
   "cell_type": "code",
   "execution_count": 17,
   "id": "b466422d",
   "metadata": {},
   "outputs": [
    {
     "data": {
      "text/plain": [
       "gender               False\n",
       "age                  False\n",
       "hypertension         False\n",
       "heart_disease        False\n",
       "ever_married         False\n",
       "work_type            False\n",
       "Residence_type       False\n",
       "avg_glucose_level    False\n",
       "bmi                  False\n",
       "smoking_status       False\n",
       "stroke               False\n",
       "dtype: bool"
      ]
     },
     "execution_count": 17,
     "metadata": {},
     "output_type": "execute_result"
    }
   ],
   "source": [
    "data_adult.isna().any()"
   ]
  },
  {
   "cell_type": "markdown",
   "id": "2ba772af",
   "metadata": {},
   "source": [
    "### There are no more missing values in the data set."
   ]
  },
  {
   "cell_type": "markdown",
   "id": "8e03aa41",
   "metadata": {},
   "source": [
    "### Continuous variables"
   ]
  },
  {
   "cell_type": "code",
   "execution_count": 18,
   "id": "ac939ff7",
   "metadata": {},
   "outputs": [
    {
     "data": {
      "text/html": [
       "<div>\n",
       "<style scoped>\n",
       "    .dataframe tbody tr th:only-of-type {\n",
       "        vertical-align: middle;\n",
       "    }\n",
       "\n",
       "    .dataframe tbody tr th {\n",
       "        vertical-align: top;\n",
       "    }\n",
       "\n",
       "    .dataframe thead th {\n",
       "        text-align: right;\n",
       "    }\n",
       "</style>\n",
       "<table border=\"1\" class=\"dataframe\">\n",
       "  <thead>\n",
       "    <tr style=\"text-align: right;\">\n",
       "      <th></th>\n",
       "      <th>age</th>\n",
       "      <th>avg_glucose_level</th>\n",
       "    </tr>\n",
       "  </thead>\n",
       "  <tbody>\n",
       "    <tr>\n",
       "      <th>count</th>\n",
       "      <td>4313.000000</td>\n",
       "      <td>4313.000000</td>\n",
       "    </tr>\n",
       "    <tr>\n",
       "      <th>mean</th>\n",
       "      <td>49.745885</td>\n",
       "      <td>108.226388</td>\n",
       "    </tr>\n",
       "    <tr>\n",
       "      <th>std</th>\n",
       "      <td>18.125129</td>\n",
       "      <td>47.568050</td>\n",
       "    </tr>\n",
       "    <tr>\n",
       "      <th>min</th>\n",
       "      <td>17.000000</td>\n",
       "      <td>55.120000</td>\n",
       "    </tr>\n",
       "    <tr>\n",
       "      <th>25%</th>\n",
       "      <td>35.000000</td>\n",
       "      <td>77.450000</td>\n",
       "    </tr>\n",
       "    <tr>\n",
       "      <th>50%</th>\n",
       "      <td>50.000000</td>\n",
       "      <td>92.270000</td>\n",
       "    </tr>\n",
       "    <tr>\n",
       "      <th>75%</th>\n",
       "      <td>64.000000</td>\n",
       "      <td>115.920000</td>\n",
       "    </tr>\n",
       "    <tr>\n",
       "      <th>max</th>\n",
       "      <td>82.000000</td>\n",
       "      <td>271.740000</td>\n",
       "    </tr>\n",
       "  </tbody>\n",
       "</table>\n",
       "</div>"
      ],
      "text/plain": [
       "               age  avg_glucose_level\n",
       "count  4313.000000        4313.000000\n",
       "mean     49.745885         108.226388\n",
       "std      18.125129          47.568050\n",
       "min      17.000000          55.120000\n",
       "25%      35.000000          77.450000\n",
       "50%      50.000000          92.270000\n",
       "75%      64.000000         115.920000\n",
       "max      82.000000         271.740000"
      ]
     },
     "execution_count": 18,
     "metadata": {},
     "output_type": "execute_result"
    }
   ],
   "source": [
    "data_adult.describe(include='float64')"
   ]
  },
  {
   "cell_type": "code",
   "execution_count": 19,
   "id": "f2337c23",
   "metadata": {},
   "outputs": [
    {
     "data": {
      "text/plain": [
       "<AxesSubplot:>"
      ]
     },
     "execution_count": 19,
     "metadata": {},
     "output_type": "execute_result"
    },
    {
     "data": {
      "image/png": "[encoded data removed]",
      "text/plain": [
       "<Figure size 360x360 with 1 Axes>"
      ]
     },
     "metadata": {
      "needs_background": "light"
     },
     "output_type": "display_data"
    }
   ],
   "source": [
    "data_adult['age'].hist(figsize=(5,5))"
   ]
  },
  {
   "cell_type": "code",
   "execution_count": 20,
   "id": "0206f9b6",
   "metadata": {},
   "outputs": [
    {
     "data": {
      "text/plain": [
       "<matplotlib.legend.Legend at 0x4de1838d30>"
      ]
     },
     "execution_count": 20,
     "metadata": {},
     "output_type": "execute_result"
    },
    {
     "data": {
      "image/png": "[encoded data removed]",
      "text/plain": [
       "<Figure size 432x288 with 1 Axes>"
      ]
     },
     "metadata": {
      "needs_background": "light"
     },
     "output_type": "display_data"
    }
   ],
   "source": [
    "count, bins_count = np.histogram(data_adult['age'], bins=10)\n",
    "pdf = count / sum(count)\n",
    "cdf = np.cumsum(pdf)\n",
    "plt.plot(bins_count[1:], pdf, color=\"red\", label=\"PDF\")\n",
    "plt.plot(bins_count[1:], cdf, label=\"CDF\")\n",
    "plt.legend()"
   ]
  },
  {
   "cell_type": "markdown",
   "id": "4694e209",
   "metadata": {},
   "source": [
    "### 'age' feature has uniform distribution."
   ]
  },
  {
   "cell_type": "code",
   "execution_count": 21,
   "id": "06f3717b",
   "metadata": {},
   "outputs": [
    {
     "data": {
      "text/plain": [
       "<AxesSubplot:xlabel='stroke', ylabel='age'>"
      ]
     },
     "execution_count": 21,
     "metadata": {},
     "output_type": "execute_result"
    },
    {
     "data": {
      "image/png": "[encoded data removed]",
      "text/plain": [
       "<Figure size 432x288 with 1 Axes>"
      ]
     },
     "metadata": {
      "needs_background": "light"
     },
     "output_type": "display_data"
    }
   ],
   "source": [
    "sns.boxplot(x='stroke', y='age', data=data_adult)"
   ]
  },
  {
   "cell_type": "code",
   "execution_count": 22,
   "id": "d3a68b36",
   "metadata": {},
   "outputs": [],
   "source": [
    "data_adult['age_bin'] = pd.cut(data_adult['age'],\n",
    "                         [0, 18, 30, 45, 60, 80, 99])"
   ]
  },
  {
   "cell_type": "code",
   "execution_count": 23,
   "id": "d56ca6b2",
   "metadata": {},
   "outputs": [],
   "source": [
    "data_adult = data_adult.drop(columns=['age'])"
   ]
  },
  {
   "cell_type": "code",
   "execution_count": 24,
   "id": "f35adfb4",
   "metadata": {},
   "outputs": [
    {
     "data": {
      "text/plain": [
       "<AxesSubplot:xlabel='age_bin', ylabel='stroke'>"
      ]
     },
     "execution_count": 24,
     "metadata": {},
     "output_type": "execute_result"
    },
    {
     "data": {
      "image/png": "[encoded data removed]",
      "text/plain": [
       "<Figure size 432x288 with 1 Axes>"
      ]
     },
     "metadata": {
      "needs_background": "light"
     },
     "output_type": "display_data"
    }
   ],
   "source": [
    "sns.barplot(x='age_bin', y='stroke', data=data_adult)"
   ]
  },
  {
   "cell_type": "markdown",
   "id": "d200ad9a",
   "metadata": {},
   "source": [
    "### The stroke occurs more often in people of higher age."
   ]
  },
  {
   "cell_type": "code",
   "execution_count": 25,
   "id": "2faf2367",
   "metadata": {},
   "outputs": [
    {
     "data": {
      "text/plain": [
       "<AxesSubplot:>"
      ]
     },
     "execution_count": 25,
     "metadata": {},
     "output_type": "execute_result"
    },
    {
     "data": {
      "image/png": "[encoded data removed]",
      "text/plain": [
       "<Figure size 360x360 with 1 Axes>"
      ]
     },
     "metadata": {
      "needs_background": "light"
     },
     "output_type": "display_data"
    }
   ],
   "source": [
    "data_adult['avg_glucose_level'].hist(figsize=(5,5))"
   ]
  },
  {
   "cell_type": "code",
   "execution_count": 26,
   "id": "0ee549f9",
   "metadata": {},
   "outputs": [
    {
     "data": {
      "text/plain": [
       "<AxesSubplot:xlabel='stroke', ylabel='avg_glucose_level'>"
      ]
     },
     "execution_count": 26,
     "metadata": {},
     "output_type": "execute_result"
    },
    {
     "data": {
      "image/png": "[encoded data removed]",
      "text/plain": [
       "<Figure size 432x288 with 1 Axes>"
      ]
     },
     "metadata": {
      "needs_background": "light"
     },
     "output_type": "display_data"
    }
   ],
   "source": [
    "sns.boxplot(x='stroke', y='avg_glucose_level', data=data_adult)"
   ]
  },
  {
   "cell_type": "code",
   "execution_count": 27,
   "id": "30776a0e",
   "metadata": {},
   "outputs": [],
   "source": [
    "for val in data_adult['avg_glucose_level']:\n",
    "    if val < 140:\n",
    "        data_adult['avg_glucose_level'].replace(to_replace=val, value='normal', inplace=True)\n",
    "    elif val >= 140 and val < 200:\n",
    "        data_adult['avg_glucose_level'].replace(to_replace=val, value='prediabetes', inplace=True)\n",
    "    elif val >= 200:\n",
    "        data_adult['avg_glucose_level'].replace(to_replace=val, value='diabetes', inplace=True)"
   ]
  },
  {
   "cell_type": "code",
   "execution_count": 28,
   "id": "7811fbc7",
   "metadata": {},
   "outputs": [],
   "source": [
    "data_adult.rename(columns = {'avg_glucose_level':'glucose_levels'}, inplace=True)"
   ]
  },
  {
   "cell_type": "code",
   "execution_count": 29,
   "id": "77b7fec9",
   "metadata": {},
   "outputs": [
    {
     "data": {
      "text/plain": [
       "<AxesSubplot:xlabel='glucose_levels', ylabel='stroke'>"
      ]
     },
     "execution_count": 29,
     "metadata": {},
     "output_type": "execute_result"
    },
    {
     "data": {
      "image/png": "[encoded data removed]",
      "text/plain": [
       "<Figure size 432x288 with 1 Axes>"
      ]
     },
     "metadata": {
      "needs_background": "light"
     },
     "output_type": "display_data"
    }
   ],
   "source": [
    "sns.barplot(x='glucose_levels',y='stroke',data=data_adult, order=[\"normal\", \"prediabetes\",\"diabetes\"])"
   ]
  },
  {
   "cell_type": "markdown",
   "id": "ae5d5194",
   "metadata": {},
   "source": [
    "### Demographic features: gender,age"
   ]
  },
  {
   "cell_type": "code",
   "execution_count": 30,
   "id": "36547791",
   "metadata": {},
   "outputs": [
    {
     "data": {
      "text/plain": [
       "<AxesSubplot:xlabel='age_bin', ylabel='stroke'>"
      ]
     },
     "execution_count": 30,
     "metadata": {},
     "output_type": "execute_result"
    },
    {
     "data": {
      "image/png": "[encoded data removed]",
      "text/plain": [
       "<Figure size 720x504 with 2 Axes>"
      ]
     },
     "metadata": {
      "needs_background": "light"
     },
     "output_type": "display_data"
    }
   ],
   "source": [
    "fig, axes = plt.subplots(1,2,figsize=(10, 7))\n",
    "sns.barplot(ax=axes[0],x='gender',y='stroke',data=data_adult)\n",
    "sns.barplot(ax=axes[1],x='age_bin', y='stroke', data=data_adult)"
   ]
  },
  {
   "cell_type": "markdown",
   "id": "bfac841b",
   "metadata": {},
   "source": [
    "### Hypertension"
   ]
  },
  {
   "cell_type": "code",
   "execution_count": 31,
   "id": "f2298ce0",
   "metadata": {},
   "outputs": [
    {
     "data": {
      "image/png": "[encoded data removed]",
      "text/plain": [
       "<Figure size 720x504 with 2 Axes>"
      ]
     },
     "metadata": {
      "needs_background": "light"
     },
     "output_type": "display_data"
    }
   ],
   "source": [
    "fig, axes = plt.subplots(1,2,figsize=(10, 7))\n",
    "sns.barplot(ax=axes[0], x='hypertension',y='stroke',data=data_adult);\n",
    "sns.barplot(ax=axes[1], x='heart_disease',y='stroke',data=data_adult);"
   ]
  },
  {
   "cell_type": "markdown",
   "id": "aaf5eab0",
   "metadata": {},
   "source": [
    "### Stress"
   ]
  },
  {
   "cell_type": "code",
   "execution_count": 32,
   "id": "904bb719",
   "metadata": {},
   "outputs": [
    {
     "data": {
      "image/png": "[encoded data removed]",
      "text/plain": [
       "<Figure size 1080x504 with 3 Axes>"
      ]
     },
     "metadata": {
      "needs_background": "light"
     },
     "output_type": "display_data"
    }
   ],
   "source": [
    "fig, axes = plt.subplots(1,3,figsize=(15, 7))\n",
    "sns.barplot(ax=axes[0], x='ever_married',y='stroke',data=data_adult)\n",
    "sns.barplot(ax=axes[1], x='work_type',y='stroke',data=data_adult)\n",
    "sns.barplot(ax=axes[2], x='Residence_type',y='stroke',data=data_adult);"
   ]
  },
  {
   "cell_type": "markdown",
   "id": "1465f147",
   "metadata": {},
   "source": [
    "### Smoking status"
   ]
  },
  {
   "cell_type": "code",
   "execution_count": 33,
   "id": "f5b3d8f4",
   "metadata": {},
   "outputs": [
    {
     "data": {
      "text/plain": [
       "<AxesSubplot:xlabel='smoking_status', ylabel='stroke'>"
      ]
     },
     "execution_count": 33,
     "metadata": {},
     "output_type": "execute_result"
    },
    {
     "data": {
      "image/png": "[encoded data removed]",
      "text/plain": [
       "<Figure size 432x288 with 1 Axes>"
      ]
     },
     "metadata": {
      "needs_background": "light"
     },
     "output_type": "display_data"
    }
   ],
   "source": [
    "sns.barplot(x='smoking_status',y='stroke',data=data_adult)"
   ]
  },
  {
   "cell_type": "markdown",
   "id": "bbfb38f3",
   "metadata": {},
   "source": [
    "### Feature selection"
   ]
  },
  {
   "cell_type": "code",
   "execution_count": 34,
   "id": "88d798ab",
   "metadata": {},
   "outputs": [],
   "source": [
    "from sklearn.feature_selection import SelectKBest\n",
    "from sklearn.feature_selection import chi2\n",
    "from sklearn.feature_selection import f_classif\n",
    "from sklearn.feature_selection import mutual_info_classif\n",
    "from sklearn.linear_model import LogisticRegression\n",
    "from sklearn.model_selection import train_test_split\n",
    "from sklearn import metrics\n",
    "from sklearn.preprocessing import LabelEncoder\n",
    "from mlxtend.preprocessing import minmax_scaling\n",
    "import scipy.stats"
   ]
  },
  {
   "cell_type": "code",
   "execution_count": 35,
   "id": "6383a736",
   "metadata": {},
   "outputs": [
    {
     "data": {
      "text/html": [
       "<div>\n",
       "<style scoped>\n",
       "    .dataframe tbody tr th:only-of-type {\n",
       "        vertical-align: middle;\n",
       "    }\n",
       "\n",
       "    .dataframe tbody tr th {\n",
       "        vertical-align: top;\n",
       "    }\n",
       "\n",
       "    .dataframe thead th {\n",
       "        text-align: right;\n",
       "    }\n",
       "</style>\n",
       "<table border=\"1\" class=\"dataframe\">\n",
       "  <thead>\n",
       "    <tr style=\"text-align: right;\">\n",
       "      <th></th>\n",
       "      <th>gender</th>\n",
       "      <th>hypertension</th>\n",
       "      <th>heart_disease</th>\n",
       "      <th>ever_married</th>\n",
       "      <th>work_type</th>\n",
       "      <th>Residence_type</th>\n",
       "      <th>glucose_levels</th>\n",
       "      <th>bmi</th>\n",
       "      <th>smoking_status</th>\n",
       "      <th>stroke</th>\n",
       "      <th>age_bin</th>\n",
       "    </tr>\n",
       "  </thead>\n",
       "  <tbody>\n",
       "    <tr>\n",
       "      <th>0</th>\n",
       "      <td>Male</td>\n",
       "      <td>0</td>\n",
       "      <td>1</td>\n",
       "      <td>Yes</td>\n",
       "      <td>Private</td>\n",
       "      <td>Urban</td>\n",
       "      <td>diabetes</td>\n",
       "      <td>obesity</td>\n",
       "      <td>formerly smoked</td>\n",
       "      <td>1</td>\n",
       "      <td>(60, 80]</td>\n",
       "    </tr>\n",
       "    <tr>\n",
       "      <th>1</th>\n",
       "      <td>Female</td>\n",
       "      <td>0</td>\n",
       "      <td>0</td>\n",
       "      <td>Yes</td>\n",
       "      <td>Self-employed</td>\n",
       "      <td>Rural</td>\n",
       "      <td>diabetes</td>\n",
       "      <td>obesity</td>\n",
       "      <td>never smoked</td>\n",
       "      <td>1</td>\n",
       "      <td>(60, 80]</td>\n",
       "    </tr>\n",
       "    <tr>\n",
       "      <th>2</th>\n",
       "      <td>Male</td>\n",
       "      <td>0</td>\n",
       "      <td>1</td>\n",
       "      <td>Yes</td>\n",
       "      <td>Private</td>\n",
       "      <td>Rural</td>\n",
       "      <td>normal</td>\n",
       "      <td>obesity</td>\n",
       "      <td>never smoked</td>\n",
       "      <td>1</td>\n",
       "      <td>(60, 80]</td>\n",
       "    </tr>\n",
       "    <tr>\n",
       "      <th>3</th>\n",
       "      <td>Female</td>\n",
       "      <td>0</td>\n",
       "      <td>0</td>\n",
       "      <td>Yes</td>\n",
       "      <td>Private</td>\n",
       "      <td>Urban</td>\n",
       "      <td>prediabetes</td>\n",
       "      <td>obesity</td>\n",
       "      <td>smokes</td>\n",
       "      <td>1</td>\n",
       "      <td>(45, 60]</td>\n",
       "    </tr>\n",
       "    <tr>\n",
       "      <th>4</th>\n",
       "      <td>Female</td>\n",
       "      <td>1</td>\n",
       "      <td>0</td>\n",
       "      <td>Yes</td>\n",
       "      <td>Self-employed</td>\n",
       "      <td>Rural</td>\n",
       "      <td>prediabetes</td>\n",
       "      <td>normal</td>\n",
       "      <td>never smoked</td>\n",
       "      <td>1</td>\n",
       "      <td>(60, 80]</td>\n",
       "    </tr>\n",
       "  </tbody>\n",
       "</table>\n",
       "</div>"
      ],
      "text/plain": [
       "   gender  hypertension  heart_disease ever_married      work_type  \\\n",
       "0    Male             0              1          Yes        Private   \n",
       "1  Female             0              0          Yes  Self-employed   \n",
       "2    Male             0              1          Yes        Private   \n",
       "3  Female             0              0          Yes        Private   \n",
       "4  Female             1              0          Yes  Self-employed   \n",
       "\n",
       "  Residence_type glucose_levels      bmi   smoking_status  stroke   age_bin  \n",
       "0          Urban       diabetes  obesity  formerly smoked       1  (60, 80]  \n",
       "1          Rural       diabetes  obesity     never smoked       1  (60, 80]  \n",
       "2          Rural         normal  obesity     never smoked       1  (60, 80]  \n",
       "3          Urban    prediabetes  obesity           smokes       1  (45, 60]  \n",
       "4          Rural    prediabetes   normal     never smoked       1  (60, 80]  "
      ]
     },
     "execution_count": 35,
     "metadata": {},
     "output_type": "execute_result"
    }
   ],
   "source": [
    "data_adult.head()"
   ]
  },
  {
   "cell_type": "code",
   "execution_count": 36,
   "id": "febdab5d",
   "metadata": {},
   "outputs": [],
   "source": [
    "# Label encoding or dummies???"
   ]
  },
  {
   "cell_type": "code",
   "execution_count": 37,
   "id": "d4671d65",
   "metadata": {},
   "outputs": [],
   "source": [
    "X1 = data_adult.copy()"
   ]
  },
  {
   "cell_type": "code",
   "execution_count": 38,
   "id": "e85d98a5",
   "metadata": {},
   "outputs": [],
   "source": [
    "for col in data_adult.columns:\n",
    "    data_adult[col] = LabelEncoder().fit_transform(data_adult[col])"
   ]
  },
  {
   "cell_type": "code",
   "execution_count": 39,
   "id": "42516f6b",
   "metadata": {},
   "outputs": [],
   "source": [
    "#data_adult = pd.get_dummies(data_adult,drop_first=True)"
   ]
  },
  {
   "cell_type": "code",
   "execution_count": 40,
   "id": "cded5c52",
   "metadata": {},
   "outputs": [],
   "source": [
    "#df_scaled = minmax_scaling(data_adult,columns=data_adult.columns.values)"
   ]
  },
  {
   "cell_type": "code",
   "execution_count": 41,
   "id": "10628c05",
   "metadata": {},
   "outputs": [
    {
     "data": {
      "text/plain": [
       "<AxesSubplot:>"
      ]
     },
     "execution_count": 41,
     "metadata": {},
     "output_type": "execute_result"
    },
    {
     "data": {
      "image/png": "[encoded data removed]",
      "text/plain": [
       "<Figure size 432x288 with 2 Axes>"
      ]
     },
     "metadata": {
      "needs_background": "light"
     },
     "output_type": "display_data"
    }
   ],
   "source": [
    "sns.heatmap(data_adult.corr())"
   ]
  },
  {
   "cell_type": "code",
   "execution_count": 42,
   "id": "642d1f12",
   "metadata": {},
   "outputs": [],
   "source": [
    "features = [col for col in data_adult.columns if col != 'stroke']\n",
    "\n",
    "# Make an explanatory variable called X, and assign it: NoPrediction[features]\n",
    "X = data_adult[features] \n",
    "\n",
    "# Make a dependent variable called y, and assign it: NoPrediction.Decision\n",
    "y = data_adult[['stroke']] "
   ]
  },
  {
   "cell_type": "code",
   "execution_count": 43,
   "id": "7f67616d",
   "metadata": {},
   "outputs": [],
   "source": [
    "X_train, X_test, y_train, y_test = train_test_split(X,y,test_size=0.25,random_state=246)"
   ]
  },
  {
   "cell_type": "code",
   "execution_count": 44,
   "id": "e97969d6",
   "metadata": {},
   "outputs": [],
   "source": [
    "# define feature selection\n",
    "def feature_selection(variable_counts,score_function):\n",
    "    selection_model = SelectKBest(score_func=score_function, k=variable_counts)\n",
    "    selection = selection_model.fit(X_train,y_train)\n",
    "    features_selected = X_train.columns[selection.get_support()]\n",
    "    X_train_selected = selection_model.fit_transform(X_train,y_train)\n",
    "    # calculating accuracy\n",
    "    reg = LogisticRegression()\n",
    "    reg.fit(X_train_selected,y_train)\n",
    "    y_pred = reg.predict(X_test[features_selected])\n",
    "    return metrics.accuracy_score(y_test,y_pred)"
   ]
  },
  {
   "cell_type": "code",
   "execution_count": 45,
   "id": "3ff8610f",
   "metadata": {
    "scrolled": true
   },
   "outputs": [],
   "source": [
    "# create accuracy chart\n",
    "accuracy_df = pd.DataFrame({'features count': [], 'accuracy':[], 'score function':[]})\n",
    "function_list = [chi2, f_classif, mutual_info_classif]\n",
    "function_name = ['chi square', 'anova', 'mutual information']\n",
    "\n",
    "for j in range (len(function_list)):\n",
    "    func = function_list[j]\n",
    "    func_name = function_name[j]\n",
    "    for i in range(1,len(X_train.columns)):\n",
    "        accuracy = feature_selection(i,func)\n",
    "        new_record = {'features count': round(i), 'accuracy':round(accuracy,3), 'score function':func_name}\n",
    "        accuracy_df = accuracy_df.append(new_record, ignore_index=True)    "
   ]
  },
  {
   "cell_type": "code",
   "execution_count": 46,
   "id": "9a12013d",
   "metadata": {},
   "outputs": [
    {
     "data": {
      "text/html": [
       "<div>\n",
       "<style scoped>\n",
       "    .dataframe tbody tr th:only-of-type {\n",
       "        vertical-align: middle;\n",
       "    }\n",
       "\n",
       "    .dataframe tbody tr th {\n",
       "        vertical-align: top;\n",
       "    }\n",
       "\n",
       "    .dataframe thead th {\n",
       "        text-align: right;\n",
       "    }\n",
       "</style>\n",
       "<table border=\"1\" class=\"dataframe\">\n",
       "  <thead>\n",
       "    <tr style=\"text-align: right;\">\n",
       "      <th></th>\n",
       "      <th>features count</th>\n",
       "      <th>accuracy</th>\n",
       "      <th>score function</th>\n",
       "    </tr>\n",
       "  </thead>\n",
       "  <tbody>\n",
       "    <tr>\n",
       "      <th>0</th>\n",
       "      <td>1.0</td>\n",
       "      <td>0.941</td>\n",
       "      <td>chi square</td>\n",
       "    </tr>\n",
       "    <tr>\n",
       "      <th>1</th>\n",
       "      <td>2.0</td>\n",
       "      <td>0.941</td>\n",
       "      <td>chi square</td>\n",
       "    </tr>\n",
       "    <tr>\n",
       "      <th>2</th>\n",
       "      <td>3.0</td>\n",
       "      <td>0.941</td>\n",
       "      <td>chi square</td>\n",
       "    </tr>\n",
       "    <tr>\n",
       "      <th>3</th>\n",
       "      <td>4.0</td>\n",
       "      <td>0.941</td>\n",
       "      <td>chi square</td>\n",
       "    </tr>\n",
       "    <tr>\n",
       "      <th>4</th>\n",
       "      <td>5.0</td>\n",
       "      <td>0.941</td>\n",
       "      <td>chi square</td>\n",
       "    </tr>\n",
       "    <tr>\n",
       "      <th>5</th>\n",
       "      <td>6.0</td>\n",
       "      <td>0.941</td>\n",
       "      <td>chi square</td>\n",
       "    </tr>\n",
       "    <tr>\n",
       "      <th>6</th>\n",
       "      <td>7.0</td>\n",
       "      <td>0.941</td>\n",
       "      <td>chi square</td>\n",
       "    </tr>\n",
       "    <tr>\n",
       "      <th>7</th>\n",
       "      <td>8.0</td>\n",
       "      <td>0.942</td>\n",
       "      <td>chi square</td>\n",
       "    </tr>\n",
       "    <tr>\n",
       "      <th>8</th>\n",
       "      <td>9.0</td>\n",
       "      <td>0.942</td>\n",
       "      <td>chi square</td>\n",
       "    </tr>\n",
       "    <tr>\n",
       "      <th>9</th>\n",
       "      <td>1.0</td>\n",
       "      <td>0.941</td>\n",
       "      <td>anova</td>\n",
       "    </tr>\n",
       "    <tr>\n",
       "      <th>10</th>\n",
       "      <td>2.0</td>\n",
       "      <td>0.941</td>\n",
       "      <td>anova</td>\n",
       "    </tr>\n",
       "    <tr>\n",
       "      <th>11</th>\n",
       "      <td>3.0</td>\n",
       "      <td>0.941</td>\n",
       "      <td>anova</td>\n",
       "    </tr>\n",
       "    <tr>\n",
       "      <th>12</th>\n",
       "      <td>4.0</td>\n",
       "      <td>0.941</td>\n",
       "      <td>anova</td>\n",
       "    </tr>\n",
       "    <tr>\n",
       "      <th>13</th>\n",
       "      <td>5.0</td>\n",
       "      <td>0.941</td>\n",
       "      <td>anova</td>\n",
       "    </tr>\n",
       "    <tr>\n",
       "      <th>14</th>\n",
       "      <td>6.0</td>\n",
       "      <td>0.941</td>\n",
       "      <td>anova</td>\n",
       "    </tr>\n",
       "    <tr>\n",
       "      <th>15</th>\n",
       "      <td>7.0</td>\n",
       "      <td>0.941</td>\n",
       "      <td>anova</td>\n",
       "    </tr>\n",
       "    <tr>\n",
       "      <th>16</th>\n",
       "      <td>8.0</td>\n",
       "      <td>0.942</td>\n",
       "      <td>anova</td>\n",
       "    </tr>\n",
       "    <tr>\n",
       "      <th>17</th>\n",
       "      <td>9.0</td>\n",
       "      <td>0.942</td>\n",
       "      <td>anova</td>\n",
       "    </tr>\n",
       "    <tr>\n",
       "      <th>18</th>\n",
       "      <td>1.0</td>\n",
       "      <td>0.941</td>\n",
       "      <td>mutual information</td>\n",
       "    </tr>\n",
       "    <tr>\n",
       "      <th>19</th>\n",
       "      <td>2.0</td>\n",
       "      <td>0.941</td>\n",
       "      <td>mutual information</td>\n",
       "    </tr>\n",
       "    <tr>\n",
       "      <th>20</th>\n",
       "      <td>3.0</td>\n",
       "      <td>0.941</td>\n",
       "      <td>mutual information</td>\n",
       "    </tr>\n",
       "    <tr>\n",
       "      <th>21</th>\n",
       "      <td>4.0</td>\n",
       "      <td>0.941</td>\n",
       "      <td>mutual information</td>\n",
       "    </tr>\n",
       "    <tr>\n",
       "      <th>22</th>\n",
       "      <td>5.0</td>\n",
       "      <td>0.941</td>\n",
       "      <td>mutual information</td>\n",
       "    </tr>\n",
       "    <tr>\n",
       "      <th>23</th>\n",
       "      <td>6.0</td>\n",
       "      <td>0.941</td>\n",
       "      <td>mutual information</td>\n",
       "    </tr>\n",
       "    <tr>\n",
       "      <th>24</th>\n",
       "      <td>7.0</td>\n",
       "      <td>0.941</td>\n",
       "      <td>mutual information</td>\n",
       "    </tr>\n",
       "    <tr>\n",
       "      <th>25</th>\n",
       "      <td>8.0</td>\n",
       "      <td>0.941</td>\n",
       "      <td>mutual information</td>\n",
       "    </tr>\n",
       "    <tr>\n",
       "      <th>26</th>\n",
       "      <td>9.0</td>\n",
       "      <td>0.941</td>\n",
       "      <td>mutual information</td>\n",
       "    </tr>\n",
       "  </tbody>\n",
       "</table>\n",
       "</div>"
      ],
      "text/plain": [
       "    features count  accuracy      score function\n",
       "0              1.0     0.941          chi square\n",
       "1              2.0     0.941          chi square\n",
       "2              3.0     0.941          chi square\n",
       "3              4.0     0.941          chi square\n",
       "4              5.0     0.941          chi square\n",
       "5              6.0     0.941          chi square\n",
       "6              7.0     0.941          chi square\n",
       "7              8.0     0.942          chi square\n",
       "8              9.0     0.942          chi square\n",
       "9              1.0     0.941               anova\n",
       "10             2.0     0.941               anova\n",
       "11             3.0     0.941               anova\n",
       "12             4.0     0.941               anova\n",
       "13             5.0     0.941               anova\n",
       "14             6.0     0.941               anova\n",
       "15             7.0     0.941               anova\n",
       "16             8.0     0.942               anova\n",
       "17             9.0     0.942               anova\n",
       "18             1.0     0.941  mutual information\n",
       "19             2.0     0.941  mutual information\n",
       "20             3.0     0.941  mutual information\n",
       "21             4.0     0.941  mutual information\n",
       "22             5.0     0.941  mutual information\n",
       "23             6.0     0.941  mutual information\n",
       "24             7.0     0.941  mutual information\n",
       "25             8.0     0.941  mutual information\n",
       "26             9.0     0.941  mutual information"
      ]
     },
     "execution_count": 46,
     "metadata": {},
     "output_type": "execute_result"
    }
   ],
   "source": [
    "accuracy_df"
   ]
  },
  {
   "cell_type": "code",
   "execution_count": 47,
   "id": "1169573d",
   "metadata": {},
   "outputs": [
    {
     "data": {
      "text/plain": [
       "<AxesSubplot:xlabel='features count', ylabel='accuracy'>"
      ]
     },
     "execution_count": 47,
     "metadata": {},
     "output_type": "execute_result"
    },
    {
     "data": {
      "image/png": "[encoded data removed]",
      "text/plain": [
       "<Figure size 432x288 with 1 Axes>"
      ]
     },
     "metadata": {
      "needs_background": "light"
     },
     "output_type": "display_data"
    }
   ],
   "source": [
    "sns.lineplot(x='features count',y='accuracy',data=accuracy_df,hue='score function')"
   ]
  },
  {
   "cell_type": "code",
   "execution_count": 48,
   "id": "da6e0743",
   "metadata": {},
   "outputs": [
    {
     "name": "stdout",
     "output_type": "stream",
     "text": [
      "AxesSubplot(0.125,0.125;0.775x0.755)\n",
      "         features     scores\n",
      "9         age_bin  78.856838\n",
      "2   heart_disease  35.513876\n",
      "1    hypertension  27.971725\n",
      "3    ever_married   4.028647\n",
      "7             bmi   2.373993\n",
      "6  glucose_levels   1.757819\n",
      "8  smoking_status   0.537500\n",
      "4       work_type   0.359759\n",
      "5  Residence_type   0.329767\n",
      "0          gender   0.013722\n",
      "AxesSubplot(0.125,0.125;0.775x0.755)\n",
      "         features      scores\n",
      "9         age_bin  161.846671\n",
      "2   heart_disease   38.305149\n",
      "1    hypertension   31.821089\n",
      "3    ever_married   18.391402\n",
      "6  glucose_levels    9.653448\n",
      "7             bmi    4.817051\n",
      "4       work_type    0.879576\n",
      "8  smoking_status    0.815236\n",
      "5  Residence_type    0.667519\n",
      "0          gender    0.022616\n",
      "AxesSubplot(0.125,0.125;0.775x0.755)\n",
      "         features    scores\n",
      "9         age_bin  0.026795\n",
      "6  glucose_levels  0.009398\n",
      "2   heart_disease  0.005787\n",
      "0          gender  0.004098\n",
      "3    ever_married  0.003916\n",
      "5  Residence_type  0.002432\n",
      "8  smoking_status  0.000488\n",
      "7             bmi  0.000113\n",
      "1    hypertension  0.000000\n",
      "4       work_type  0.000000\n"
     ]
    },
    {
     "data": {
      "image/png": "[encoded data removed]",
      "text/plain": [
       "<Figure size 432x288 with 1 Axes>"
      ]
     },
     "metadata": {
      "needs_background": "light"
     },
     "output_type": "display_data"
    },
    {
     "data": {
      "image/png": "[encoded data removed]",
      "text/plain": [
       "<Figure size 432x288 with 1 Axes>"
      ]
     },
     "metadata": {
      "needs_background": "light"
     },
     "output_type": "display_data"
    },
    {
     "data": {
      "image/png": "[encoded data removed]",
      "text/plain": [
       "<Figure size 432x288 with 1 Axes>"
      ]
     },
     "metadata": {
      "needs_background": "light"
     },
     "output_type": "display_data"
    }
   ],
   "source": [
    "for i in range(len(function_list)):\n",
    "    function = function_list[i]\n",
    "    name = function_name[i]\n",
    "    selection_model = SelectKBest(score_func=function, k=10).fit(X_train, y_train)\n",
    "    feature_score = pd.DataFrame({'features': X_train.columns.values, 'scores':selection_model.scores_})\n",
    "    print(feature_score.plot(x='features',kind='bar',title=name))\n",
    "    print((feature_score.sort_values(by=['scores'],ascending=False)));"
   ]
  },
  {
   "cell_type": "markdown",
   "id": "8c052b17",
   "metadata": {},
   "source": [
    "### Null hypothesis: an explanatory variable and target variable are independent."
   ]
  },
  {
   "cell_type": "markdown",
   "id": "51cb763b",
   "metadata": {},
   "source": [
    "## Calculate critical values to be able to reject null hypothesis?"
   ]
  },
  {
   "cell_type": "code",
   "execution_count": 49,
   "id": "35405d00",
   "metadata": {},
   "outputs": [],
   "source": [
    "critical_values = {}\n",
    "for col in data_adult.columns:\n",
    "    if col != 'stroke':\n",
    "        crosstab = pd.crosstab(data_adult['stroke'], data_adult[col])\n",
    "        df = (len(crosstab.index)-1)*(len(crosstab.columns)-1) #degrees of freedom\n",
    "        crit_val = scipy.stats.chi2.ppf(0.5, df=df)\n",
    "        critical_values[col] = crit_val"
   ]
  },
  {
   "cell_type": "code",
   "execution_count": 50,
   "id": "c7c5a60a",
   "metadata": {},
   "outputs": [
    {
     "data": {
      "text/plain": [
       "{'gender': 0.454936423119572,\n",
       " 'hypertension': 0.454936423119572,\n",
       " 'heart_disease': 0.454936423119572,\n",
       " 'ever_married': 0.454936423119572,\n",
       " 'work_type': 2.3659738843753377,\n",
       " 'Residence_type': 0.454936423119572,\n",
       " 'glucose_levels': 1.386294361119891,\n",
       " 'bmi': 2.3659738843753377,\n",
       " 'smoking_status': 2.3659738843753377,\n",
       " 'age_bin': 4.351460191095526}"
      ]
     },
     "execution_count": 50,
     "metadata": {},
     "output_type": "execute_result"
    }
   ],
   "source": [
    "critical_values"
   ]
  },
  {
   "cell_type": "markdown",
   "id": "3efa5223",
   "metadata": {},
   "source": [
    "### For all features, where chi-square score is < than critical value, null hypothesis is true and features can be dropped?"
   ]
  },
  {
   "cell_type": "markdown",
   "id": "8b3518ee",
   "metadata": {},
   "source": [
    "### Wrapper methods"
   ]
  },
  {
   "cell_type": "markdown",
   "id": "32cc5184",
   "metadata": {},
   "source": [
    "### Forward selection"
   ]
  },
  {
   "cell_type": "code",
   "execution_count": 51,
   "id": "ec438228",
   "metadata": {},
   "outputs": [],
   "source": [
    "from mlxtend.feature_selection import SequentialFeatureSelector as SFS"
   ]
  },
  {
   "cell_type": "code",
   "execution_count": 52,
   "id": "80d4a066",
   "metadata": {},
   "outputs": [],
   "source": [
    "sfs = SFS(LogisticRegression(),k_features='best',forward=True,scoring='accuracy')\n",
    "X_train_selected = sfs.fit_transform(X_train, y_train)\n",
    "reg = LogisticRegression()\n",
    "reg.fit(X_train_selected, y_train)\n",
    "y_pred = reg.predict(X_test[list(sfs.k_feature_names_)])\n",
    "sfs_accuracy = metrics.accuracy_score(y_test,y_pred)"
   ]
  },
  {
   "cell_type": "code",
   "execution_count": 53,
   "id": "d6b75c9a",
   "metadata": {},
   "outputs": [],
   "source": [
    "#accuracy_df = pd.DataFrame({'features count': [], 'accuracy':[], 'score function':[]})\n",
    "#for i in range()\n"
   ]
  },
  {
   "cell_type": "code",
   "execution_count": 54,
   "id": "9d6a5d03",
   "metadata": {},
   "outputs": [
    {
     "data": {
      "text/plain": [
       "('gender',)"
      ]
     },
     "execution_count": 54,
     "metadata": {},
     "output_type": "execute_result"
    }
   ],
   "source": [
    "sfs.k_feature_names_"
   ]
  },
  {
   "cell_type": "code",
   "execution_count": 55,
   "id": "5a023290",
   "metadata": {},
   "outputs": [
    {
     "data": {
      "text/plain": [
       "{1: {'feature_idx': (0,),\n",
       "  'cv_scores': array([0.94435858, 0.94281298, 0.94281298, 0.94281298, 0.94427245]),\n",
       "  'avg_score': 0.9434139945736695,\n",
       "  'feature_names': ('gender',)},\n",
       " 2: {'feature_idx': (0, 1),\n",
       "  'cv_scores': array([0.94435858, 0.94281298, 0.94281298, 0.94281298, 0.94427245]),\n",
       "  'avg_score': 0.9434139945736695,\n",
       "  'feature_names': ('gender', 'hypertension')},\n",
       " 3: {'feature_idx': (0, 1, 2),\n",
       "  'cv_scores': array([0.94435858, 0.94281298, 0.94281298, 0.94281298, 0.94427245]),\n",
       "  'avg_score': 0.9434139945736695,\n",
       "  'feature_names': ('gender', 'hypertension', 'heart_disease')},\n",
       " 4: {'feature_idx': (0, 1, 2, 3),\n",
       "  'cv_scores': array([0.94435858, 0.94281298, 0.94281298, 0.94281298, 0.94427245]),\n",
       "  'avg_score': 0.9434139945736695,\n",
       "  'feature_names': ('gender',\n",
       "   'hypertension',\n",
       "   'heart_disease',\n",
       "   'ever_married')},\n",
       " 5: {'feature_idx': (0, 1, 2, 3, 4),\n",
       "  'cv_scores': array([0.94435858, 0.94281298, 0.94281298, 0.94281298, 0.94427245]),\n",
       "  'avg_score': 0.9434139945736695,\n",
       "  'feature_names': ('gender',\n",
       "   'hypertension',\n",
       "   'heart_disease',\n",
       "   'ever_married',\n",
       "   'work_type')},\n",
       " 6: {'feature_idx': (0, 1, 2, 3, 4, 5),\n",
       "  'cv_scores': array([0.94435858, 0.94281298, 0.94281298, 0.94281298, 0.94427245]),\n",
       "  'avg_score': 0.9434139945736695,\n",
       "  'feature_names': ('gender',\n",
       "   'hypertension',\n",
       "   'heart_disease',\n",
       "   'ever_married',\n",
       "   'work_type',\n",
       "   'Residence_type')},\n",
       " 7: {'feature_idx': (0, 1, 2, 3, 4, 5, 8),\n",
       "  'cv_scores': array([0.94435858, 0.94281298, 0.94281298, 0.94281298, 0.94427245]),\n",
       "  'avg_score': 0.9434139945736695,\n",
       "  'feature_names': ('gender',\n",
       "   'hypertension',\n",
       "   'heart_disease',\n",
       "   'ever_married',\n",
       "   'work_type',\n",
       "   'Residence_type',\n",
       "   'smoking_status')},\n",
       " 8: {'feature_idx': (0, 1, 2, 3, 4, 5, 8, 9),\n",
       "  'cv_scores': array([0.94435858, 0.94281298, 0.94281298, 0.94281298, 0.94427245]),\n",
       "  'avg_score': 0.9434139945736695,\n",
       "  'feature_names': ('gender',\n",
       "   'hypertension',\n",
       "   'heart_disease',\n",
       "   'ever_married',\n",
       "   'work_type',\n",
       "   'Residence_type',\n",
       "   'smoking_status',\n",
       "   'age_bin')},\n",
       " 9: {'feature_idx': (0, 1, 2, 3, 4, 5, 7, 8, 9),\n",
       "  'cv_scores': array([0.94435858, 0.94281298, 0.94281298, 0.94281298, 0.94427245]),\n",
       "  'avg_score': 0.9434139945736695,\n",
       "  'feature_names': ('gender',\n",
       "   'hypertension',\n",
       "   'heart_disease',\n",
       "   'ever_married',\n",
       "   'work_type',\n",
       "   'Residence_type',\n",
       "   'bmi',\n",
       "   'smoking_status',\n",
       "   'age_bin')},\n",
       " 10: {'feature_idx': (0, 1, 2, 3, 4, 5, 6, 7, 8, 9),\n",
       "  'cv_scores': array([0.94435858, 0.94281298, 0.94281298, 0.94281298, 0.94427245]),\n",
       "  'avg_score': 0.9434139945736695,\n",
       "  'feature_names': ('gender',\n",
       "   'hypertension',\n",
       "   'heart_disease',\n",
       "   'ever_married',\n",
       "   'work_type',\n",
       "   'Residence_type',\n",
       "   'glucose_levels',\n",
       "   'bmi',\n",
       "   'smoking_status',\n",
       "   'age_bin')}}"
      ]
     },
     "execution_count": 55,
     "metadata": {},
     "output_type": "execute_result"
    }
   ],
   "source": [
    "sfs.subsets_"
   ]
  },
  {
   "cell_type": "markdown",
   "id": "95dbbcfe",
   "metadata": {},
   "source": [
    "### Backward Elimination"
   ]
  },
  {
   "cell_type": "code",
   "execution_count": 56,
   "id": "129374c8",
   "metadata": {},
   "outputs": [],
   "source": [
    "sfs = SFS(LogisticRegression(),k_features='best',forward=False,scoring='accuracy')\n",
    "X_train_selected = sfs.fit_transform(X_train, y_train)\n",
    "reg = LogisticRegression()\n",
    "reg.fit(X_train_selected, y_train)\n",
    "y_pred = reg.predict(X_test[list(sfs.k_feature_names_)])\n",
    "sfs_accuracy = metrics.accuracy_score(y_test,y_pred)"
   ]
  },
  {
   "cell_type": "code",
   "execution_count": 57,
   "id": "1c39a647",
   "metadata": {},
   "outputs": [
    {
     "data": {
      "text/plain": [
       "0.9416126042632067"
      ]
     },
     "execution_count": 57,
     "metadata": {},
     "output_type": "execute_result"
    }
   ],
   "source": [
    "sfs_accuracy"
   ]
  },
  {
   "cell_type": "markdown",
   "id": "2764dd4d",
   "metadata": {},
   "source": [
    "### Multiple correspondence analysis"
   ]
  },
  {
   "cell_type": "code",
   "execution_count": 58,
   "id": "06af5033",
   "metadata": {},
   "outputs": [
    {
     "name": "stdout",
     "output_type": "stream",
     "text": [
      "<class 'pandas.core.frame.DataFrame'>\n",
      "Int64Index: 4313 entries, 0 to 4313\n",
      "Data columns (total 11 columns):\n",
      " #   Column          Non-Null Count  Dtype\n",
      "---  ------          --------------  -----\n",
      " 0   gender          4313 non-null   int32\n",
      " 1   hypertension    4313 non-null   int64\n",
      " 2   heart_disease   4313 non-null   int64\n",
      " 3   ever_married    4313 non-null   int32\n",
      " 4   work_type       4313 non-null   int32\n",
      " 5   Residence_type  4313 non-null   int32\n",
      " 6   glucose_levels  4313 non-null   int32\n",
      " 7   bmi             4313 non-null   int32\n",
      " 8   smoking_status  4313 non-null   int32\n",
      " 9   stroke          4313 non-null   int64\n",
      " 10  age_bin         4313 non-null   int32\n",
      "dtypes: int32(8), int64(3)\n",
      "memory usage: 269.6 KB\n"
     ]
    }
   ],
   "source": [
    "data_adult.info()"
   ]
  },
  {
   "cell_type": "code",
   "execution_count": 59,
   "id": "664bd898",
   "metadata": {},
   "outputs": [],
   "source": [
    "import prince"
   ]
  },
  {
   "cell_type": "code",
   "execution_count": 60,
   "id": "570b8b27",
   "metadata": {},
   "outputs": [
    {
     "data": {
      "text/plain": [
       "(0, 18]      120\n",
       "(18, 30]     653\n",
       "(30, 45]    1048\n",
       "(45, 60]    1188\n",
       "(60, 80]    1188\n",
       "(80, 99]     116\n",
       "Name: age_bin, dtype: int64"
      ]
     },
     "execution_count": 60,
     "metadata": {},
     "output_type": "execute_result"
    }
   ],
   "source": [
    "X1['age_bin'].value_counts().sort_index()"
   ]
  },
  {
   "cell_type": "code",
   "execution_count": 61,
   "id": "c9dde788",
   "metadata": {},
   "outputs": [],
   "source": [
    "mca = prince.MCA(n_components=2,\n",
    "                 n_iter=2,\n",
    "                 copy=True,\n",
    "                 check_input=True,\n",
    "                 engine='auto',\n",
    "                 random_state=42)"
   ]
  },
  {
   "cell_type": "code",
   "execution_count": 62,
   "id": "f09e34c0",
   "metadata": {},
   "outputs": [],
   "source": [
    "mca = mca.fit(X1)\n",
    "#X1 = mca.transform(X1)\n",
    "#print(mca)"
   ]
  },
  {
   "cell_type": "code",
   "execution_count": 63,
   "id": "d22931b3",
   "metadata": {},
   "outputs": [
    {
     "data": {
      "image/png": "[encoded data removed]",
      "text/plain": [
       "<Figure size 720x720 with 1 Axes>"
      ]
     },
     "metadata": {
      "needs_background": "light"
     },
     "output_type": "display_data"
    }
   ],
   "source": [
    "mca.plot_coordinates(X=X1, show_row_points=False,\n",
    "                     figsize=(10, 10),\n",
    "                     show_column_labels=True,\n",
    "                     column_points_size=50\n",
    "                    );"
   ]
  },
  {
   "cell_type": "code",
   "execution_count": 64,
   "id": "69d45f30",
   "metadata": {},
   "outputs": [
    {
     "name": "stdout",
     "output_type": "stream",
     "text": [
      "[0.25503785586098604, 0.1621353459029907]\n",
      "1.7272727272727273\n",
      "[0.1476534954984656, 0.09386783183857356]\n"
     ]
    }
   ],
   "source": [
    "print(mca.eigenvalues_, mca.total_inertia_, mca.explained_inertia_, sep='\\n')"
   ]
  },
  {
   "cell_type": "code",
   "execution_count": 65,
   "id": "cfee4dec",
   "metadata": {},
   "outputs": [
    {
     "data": {
      "image/png": "[encoded data removed]",
      "text/plain": [
       "<Figure size 720x720 with 1 Axes>"
      ]
     },
     "metadata": {
      "needs_background": "light"
     },
     "output_type": "display_data"
    }
   ],
   "source": [
    "mca.plot_coordinates(X=X1, show_row_points=False,\n",
    "                     figsize=(10, 10),\n",
    "                     show_column_labels=True,\n",
    "                     column_points_size=50\n",
    "                    );"
   ]
  },
  {
   "cell_type": "markdown",
   "id": "bddda039",
   "metadata": {},
   "source": [
    "### PCA"
   ]
  },
  {
   "cell_type": "code",
   "execution_count": 66,
   "id": "76ba45e8",
   "metadata": {},
   "outputs": [],
   "source": [
    "from sklearn.decomposition import PCA"
   ]
  },
  {
   "cell_type": "code",
   "execution_count": 67,
   "id": "0989393c",
   "metadata": {},
   "outputs": [],
   "source": [
    "pca = PCA(n_components=7) \n",
    "principalComponents = pca.fit_transform(X)\n",
    "principalDf = pd.DataFrame(data = principalComponents\n",
    "             ,columns = ['principal component 1', 'principal component 2','principl component 3','principal component 4','principal component 5','principal component 6','principal component 7'])\n",
    "#finalDf = pd.concat([principalDf, y], axis = 1)"
   ]
  },
  {
   "cell_type": "code",
   "execution_count": 68,
   "id": "dc171423",
   "metadata": {},
   "outputs": [
    {
     "name": "stdout",
     "output_type": "stream",
     "text": [
      "Given number of components explains 94.2 % of variance\n"
     ]
    }
   ],
   "source": [
    "print('Given number of components explains', round(pca.explained_variance_ratio_.sum()*100,2), '% of variance')"
   ]
  },
  {
   "cell_type": "code",
   "execution_count": 69,
   "id": "3db18446",
   "metadata": {},
   "outputs": [
    {
     "name": "stdout",
     "output_type": "stream",
     "text": [
      "Number of components explaining 90% variance:  6\n"
     ]
    }
   ],
   "source": [
    "pca = PCA(0.9) \n",
    "principalComponents = pca.fit_transform(X)\n",
    "print('Number of components explaining 90% variance: ', pca.n_components_)"
   ]
  }
 ],
 "metadata": {
  "kernelspec": {
   "display_name": "Python 3 (ipykernel)",
   "language": "python",
   "name": "python3"
  },
  "language_info": {
   "codemirror_mode": {
    "name": "ipython",
    "version": 3
   },
   "file_extension": ".py",
   "mimetype": "text/x-python",
   "name": "python",
   "nbconvert_exporter": "python",
   "pygments_lexer": "ipython3",
   "version": "3.9.7"
  }
 },
 "nbformat": 4,
 "nbformat_minor": 5
}
