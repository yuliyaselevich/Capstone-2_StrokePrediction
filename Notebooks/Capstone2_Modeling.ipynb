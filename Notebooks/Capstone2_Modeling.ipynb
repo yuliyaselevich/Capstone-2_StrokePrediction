{
 "cells": [
  {
   "cell_type": "markdown",
   "id": "ccf22134",
   "metadata": {},
   "source": [
    "## Modeling"
   ]
  },
  {
   "cell_type": "code",
   "execution_count": 21,
   "id": "83f97b58",
   "metadata": {
    "ExecuteTime": {
     "end_time": "2022-07-19T21:53:17.474688Z",
     "start_time": "2022-07-19T21:53:17.467683Z"
    }
   },
   "outputs": [],
   "source": [
    "import numpy as np \n",
    "import pandas as pd \n",
    "import matplotlib.pyplot as plt \n",
    "from matplotlib.ticker import PercentFormatter\n",
    "import seaborn as sns\n",
    "from scipy.stats import loguniform\n",
    "from sklearn.metrics import (roc_auc_score, precision_score,\n",
    "                             recall_score, f1_score)\n",
    "from sklearn.linear_model import LogisticRegression\n",
    "from sklearn.ensemble import RandomForestClassifier\n",
    "from sklearn.model_selection import RandomizedSearchCV, cross_validate, GridSearchCV\n",
    "from sklearn.model_selection import StratifiedKFold\n",
    "from sklearn.metrics import classification_report,roc_curve, confusion_matrix\n",
    "import xgboost as xgb"
   ]
  },
  {
   "cell_type": "code",
   "execution_count": 22,
   "id": "ef23bd64",
   "metadata": {
    "ExecuteTime": {
     "end_time": "2022-07-19T21:53:19.300981Z",
     "start_time": "2022-07-19T21:53:19.267957Z"
    },
    "scrolled": false
   },
   "outputs": [],
   "source": [
    "X_train = pd.read_csv('../Data/X_train.csv',index_col=0)\n",
    "X_test = pd.read_csv('../Data/X_test.csv',index_col=0)\n",
    "y_train = pd.read_csv('../Data/y_train.csv',index_col=0)\n",
    "y_test = pd.read_csv('../Data/y_test.csv',index_col=0)"
   ]
  },
  {
   "cell_type": "code",
   "execution_count": 23,
   "id": "1a192f78",
   "metadata": {
    "ExecuteTime": {
     "end_time": "2022-07-19T21:53:20.552867Z",
     "start_time": "2022-07-19T21:53:20.546862Z"
    }
   },
   "outputs": [],
   "source": [
    "X_train.reset_index(drop=True,inplace=True)\n",
    "X_test.reset_index(drop=True,inplace=True)\n",
    "y_train.reset_index(drop=True,inplace=True)\n",
    "y_test.reset_index(drop=True,inplace=True)"
   ]
  },
  {
   "cell_type": "code",
   "execution_count": 24,
   "id": "b47f9aec",
   "metadata": {
    "ExecuteTime": {
     "end_time": "2022-07-19T21:53:21.254363Z",
     "start_time": "2022-07-19T21:53:21.249360Z"
    }
   },
   "outputs": [],
   "source": [
    "y_train = y_train.values.ravel()\n",
    "y_test = y_test.values.ravel()"
   ]
  },
  {
   "cell_type": "code",
   "execution_count": 25,
   "id": "3c7e4d9d",
   "metadata": {
    "ExecuteTime": {
     "end_time": "2022-07-19T21:53:22.465221Z",
     "start_time": "2022-07-19T21:53:22.459216Z"
    }
   },
   "outputs": [
    {
     "data": {
      "text/plain": [
       "((3019, 22), (1294, 22), (3019,), (1294,))"
      ]
     },
     "execution_count": 25,
     "metadata": {},
     "output_type": "execute_result"
    }
   ],
   "source": [
    "X_train.shape,X_test.shape,y_train.shape,y_test.shape"
   ]
  },
  {
   "cell_type": "markdown",
   "id": "cf48a264",
   "metadata": {},
   "source": [
    "### StratifiedKFold cross-validator ensures that each fold of the dataset has the same proportion of observations with a given label, therefore it appropriate to use it for this imbalanced dataset."
   ]
  },
  {
   "cell_type": "code",
   "execution_count": 26,
   "id": "c69234e1",
   "metadata": {
    "ExecuteTime": {
     "end_time": "2022-07-19T21:53:23.871217Z",
     "start_time": "2022-07-19T21:53:23.867212Z"
    }
   },
   "outputs": [],
   "source": [
    "cv = StratifiedKFold(n_splits= 5, shuffle=True, random_state=42)"
   ]
  },
  {
   "cell_type": "markdown",
   "id": "350ba577",
   "metadata": {},
   "source": [
    "## Logistic regression"
   ]
  },
  {
   "cell_type": "code",
   "execution_count": 27,
   "id": "b9a7f3d2",
   "metadata": {
    "ExecuteTime": {
     "end_time": "2022-07-19T21:53:25.343257Z",
     "start_time": "2022-07-19T21:53:25.338253Z"
    }
   },
   "outputs": [],
   "source": [
    "lr_parameters = {'solver':['newton-cg', 'lbfgs', 'liblinear', 'sag', 'saga'], \n",
    "              'C':[100, 10, 1.0, 0.1, 0.01],\n",
    "             'penalty':['none', 'l1', 'l2', 'elasticnet']}"
   ]
  },
  {
   "cell_type": "code",
   "execution_count": 28,
   "id": "d91c9a51",
   "metadata": {
    "ExecuteTime": {
     "end_time": "2022-07-19T21:53:26.593141Z",
     "start_time": "2022-07-19T21:53:26.588138Z"
    }
   },
   "outputs": [],
   "source": [
    "lr_model = LogisticRegression()\n",
    "lr_clf = GridSearchCV(lr_model, param_grid = lr_parameters,cv=cv,scoring='roc_auc')"
   ]
  },
  {
   "cell_type": "code",
   "execution_count": 9,
   "id": "d69ef2f6",
   "metadata": {
    "ExecuteTime": {
     "end_time": "2022-07-19T21:52:00.624135Z",
     "start_time": "2022-07-19T21:52:00.619131Z"
    }
   },
   "outputs": [],
   "source": [
    "#lr_clf.fit(X_train, y_train)"
   ]
  },
  {
   "cell_type": "code",
   "execution_count": 17,
   "id": "05d86a31",
   "metadata": {
    "ExecuteTime": {
     "end_time": "2022-07-19T14:17:57.990803Z",
     "start_time": "2022-07-19T14:17:57.985800Z"
    }
   },
   "outputs": [
    {
     "name": "stdout",
     "output_type": "stream",
     "text": [
      "The best score is 0.7939334165696043 with following best parameters {'C': 10, 'penalty': 'l1', 'solver': 'saga'}\n"
     ]
    }
   ],
   "source": [
    "#print('The best score is', lr_clf.best_score_,'with following best parameters',lr_clf.best_params_)"
   ]
  },
  {
   "cell_type": "code",
   "execution_count": 29,
   "id": "a18c509a",
   "metadata": {
    "ExecuteTime": {
     "end_time": "2022-07-19T21:53:28.532514Z",
     "start_time": "2022-07-19T21:53:28.211287Z"
    }
   },
   "outputs": [
    {
     "name": "stderr",
     "output_type": "stream",
     "text": [
      "C:\\Users\\Julia\\anaconda3\\lib\\site-packages\\sklearn\\linear_model\\_sag.py:352: ConvergenceWarning: The max_iter was reached which means the coef_ did not converge\n",
      "  warnings.warn(\n"
     ]
    }
   ],
   "source": [
    "lr_model = LogisticRegression(C=10, penalty='l1', solver='saga',random_state=50).fit(X_train,y_train)\n",
    "lr_probs = lr_model.predict_proba(X_test)[:, 1]\n",
    "y_pred = lr_model.predict(X_test)"
   ]
  },
  {
   "cell_type": "code",
   "execution_count": 30,
   "id": "0665ee53",
   "metadata": {
    "ExecuteTime": {
     "end_time": "2022-07-19T21:53:30.715869Z",
     "start_time": "2022-07-19T21:53:30.698857Z"
    }
   },
   "outputs": [
    {
     "name": "stdout",
     "output_type": "stream",
     "text": [
      "Logistic Regression\n",
      "\n",
      "ROC AUC: 0.7992\n",
      "              precision    recall  f1-score   support\n",
      "\n",
      "           0       0.94      1.00      0.97      1212\n",
      "           1       0.33      0.01      0.02        82\n",
      "\n",
      "    accuracy                           0.94      1294\n",
      "   macro avg       0.64      0.51      0.50      1294\n",
      "weighted avg       0.90      0.94      0.91      1294\n",
      "\n"
     ]
    }
   ],
   "source": [
    "print(f'Logistic Regression\\n')\n",
    "roc = roc_auc_score(y_test, lr_probs)\n",
    "print(f'ROC AUC: {round(roc, 4)}')\n",
    "print(classification_report(y_test, y_pred,zero_division=0))"
   ]
  },
  {
   "cell_type": "code",
   "execution_count": 31,
   "id": "b9983f75",
   "metadata": {
    "ExecuteTime": {
     "end_time": "2022-07-19T21:53:36.479949Z",
     "start_time": "2022-07-19T21:53:36.466938Z"
    }
   },
   "outputs": [
    {
     "name": "stdout",
     "output_type": "stream",
     "text": [
      "              precision    recall  f1-score   support\n",
      "\n",
      "           0       0.98      0.65      0.78      1212\n",
      "           1       0.14      0.83      0.24        82\n",
      "\n",
      "    accuracy                           0.66      1294\n",
      "   macro avg       0.56      0.74      0.51      1294\n",
      "weighted avg       0.93      0.66      0.75      1294\n",
      "\n"
     ]
    }
   ],
   "source": [
    "print(classification_report(y_test,lr_probs > .05))"
   ]
  },
  {
   "cell_type": "code",
   "execution_count": 32,
   "id": "c3e5b69f",
   "metadata": {
    "ExecuteTime": {
     "end_time": "2022-07-19T21:53:38.944692Z",
     "start_time": "2022-07-19T21:53:38.938688Z"
    }
   },
   "outputs": [],
   "source": [
    "cf_matrix = confusion_matrix(y_test,y_pred)"
   ]
  },
  {
   "cell_type": "code",
   "execution_count": 33,
   "id": "334173f1",
   "metadata": {
    "ExecuteTime": {
     "end_time": "2022-07-19T21:53:40.456762Z",
     "start_time": "2022-07-19T21:53:40.147544Z"
    }
   },
   "outputs": [
    {
     "data": {
      "image/png": "[encoded data removed]",
      "text/plain": [
       "<Figure size 432x288 with 2 Axes>"
      ]
     },
     "metadata": {
      "needs_background": "light"
     },
     "output_type": "display_data"
    }
   ],
   "source": [
    "ax =sns.heatmap(cf_matrix/np.sum(cf_matrix), annot=True, \n",
    "            fmt='.2%', cmap='Blues')\n",
    "ax.set_title('Confusion Matrix\\n\\n');\n",
    "ax.set_xlabel('\\nPredicted Values')\n",
    "ax.set_ylabel('Actual Values ');\n",
    "\n",
    "## Ticket labels - List must be in alphabetical order\n",
    "ax.xaxis.set_ticklabels(['False','True'])\n",
    "ax.yaxis.set_ticklabels(['False','True'])\n",
    "\n",
    "## Display the visualization of the Confusion Matrix.\n",
    "plt.show()"
   ]
  },
  {
   "cell_type": "markdown",
   "id": "fe255ee3",
   "metadata": {},
   "source": [
    "### Random Forest Classifier"
   ]
  },
  {
   "cell_type": "code",
   "execution_count": 34,
   "id": "58e0f11d",
   "metadata": {
    "ExecuteTime": {
     "end_time": "2022-07-19T21:53:43.024580Z",
     "start_time": "2022-07-19T21:53:43.019577Z"
    }
   },
   "outputs": [],
   "source": [
    "parameters_rf = {'n_estimators' : [10, 100, 200, 500, 1000], \n",
    "                'max_features' : ['auto','sqrt', 'log2'],\n",
    "                'criterion':['gini', 'entropy', 'log_loss'],\n",
    "                'max_depth': [10, 20, 30, 40, 50]}"
   ]
  },
  {
   "cell_type": "code",
   "execution_count": 35,
   "id": "0ceaa218",
   "metadata": {
    "ExecuteTime": {
     "end_time": "2022-07-19T21:53:43.614997Z",
     "start_time": "2022-07-19T21:53:43.610994Z"
    }
   },
   "outputs": [],
   "source": [
    "rf_model = RandomForestClassifier()\n",
    "rf_clf = GridSearchCV(rf_model, param_grid = parameters_rf,cv=cv,scoring='roc_auc')"
   ]
  },
  {
   "cell_type": "code",
   "execution_count": 36,
   "id": "0549b337",
   "metadata": {
    "ExecuteTime": {
     "end_time": "2022-07-19T21:53:44.238439Z",
     "start_time": "2022-07-19T21:53:44.235437Z"
    }
   },
   "outputs": [],
   "source": [
    "#rf_clf.fit(X_train, y_train)"
   ]
  },
  {
   "cell_type": "code",
   "execution_count": 27,
   "id": "07b6a75a",
   "metadata": {
    "ExecuteTime": {
     "end_time": "2022-07-19T14:38:59.891438Z",
     "start_time": "2022-07-19T14:38:59.886435Z"
    }
   },
   "outputs": [
    {
     "name": "stdout",
     "output_type": "stream",
     "text": [
      "The best score is 0.7584461073077536 with following best parameters {'criterion': 'entropy', 'max_depth': 10, 'max_features': 'auto', 'n_estimators': 100}\n"
     ]
    }
   ],
   "source": [
    "#print('The best score is', rf_clf.best_score_,'with following best parameters',rf_clf.best_params_)"
   ]
  },
  {
   "cell_type": "code",
   "execution_count": 37,
   "id": "f0cd118d",
   "metadata": {
    "ExecuteTime": {
     "end_time": "2022-07-19T21:53:49.968817Z",
     "start_time": "2022-07-19T21:53:45.707803Z"
    }
   },
   "outputs": [],
   "source": [
    "rf_model = RandomForestClassifier(criterion='entropy',max_depth=10,max_features='auto',n_estimators=1000,\n",
    "                                  random_state=50)\n",
    "rf_model.fit(X_train, y_train)\n",
    "rf_probs = rf_model.predict_proba(X_test)[:, 1]\n",
    "rf_preds = rf_model.predict(X_test)"
   ]
  },
  {
   "cell_type": "code",
   "execution_count": 38,
   "id": "80da9624",
   "metadata": {
    "ExecuteTime": {
     "end_time": "2022-07-19T21:53:51.244721Z",
     "start_time": "2022-07-19T21:53:51.226708Z"
    }
   },
   "outputs": [
    {
     "name": "stdout",
     "output_type": "stream",
     "text": [
      "Random Forest Classifier\n",
      "\n",
      "ROC AUC: 0.7805\n",
      "              precision    recall  f1-score   support\n",
      "\n",
      "           0       0.94      1.00      0.97      1212\n",
      "           1       0.25      0.01      0.02        82\n",
      "\n",
      "    accuracy                           0.94      1294\n",
      "   macro avg       0.59      0.50      0.49      1294\n",
      "weighted avg       0.89      0.94      0.91      1294\n",
      "\n"
     ]
    }
   ],
   "source": [
    "print(f'Random Forest Classifier\\n')\n",
    "roc = roc_auc_score(y_test, rf_probs)\n",
    "print(f'ROC AUC: {round(roc, 4)}')\n",
    "print(classification_report(y_test, rf_preds,zero_division=0))"
   ]
  },
  {
   "cell_type": "code",
   "execution_count": 40,
   "id": "2cbf6907",
   "metadata": {
    "ExecuteTime": {
     "end_time": "2022-07-19T21:54:32.858698Z",
     "start_time": "2022-07-19T21:54:32.852694Z"
    }
   },
   "outputs": [],
   "source": [
    "cf_matrix = confusion_matrix(y_test,rf_preds)"
   ]
  },
  {
   "cell_type": "code",
   "execution_count": 41,
   "id": "98505b79",
   "metadata": {
    "ExecuteTime": {
     "end_time": "2022-07-19T21:54:33.890024Z",
     "start_time": "2022-07-19T21:54:33.643850Z"
    }
   },
   "outputs": [
    {
     "data": {
      "image/png": "[encoded data removed]",
      "text/plain": [
       "<Figure size 432x288 with 2 Axes>"
      ]
     },
     "metadata": {
      "needs_background": "light"
     },
     "output_type": "display_data"
    }
   ],
   "source": [
    "ax =sns.heatmap(cf_matrix/np.sum(cf_matrix), annot=True, \n",
    "            fmt='.2%', cmap='Blues')\n",
    "ax.set_title('Confusion Matrix\\n\\n');\n",
    "ax.set_xlabel('\\nPredicted Values')\n",
    "ax.set_ylabel('Actual Values ');\n",
    "\n",
    "## Ticket labels - List must be in alphabetical order\n",
    "ax.xaxis.set_ticklabels(['False','True'])\n",
    "ax.yaxis.set_ticklabels(['False','True'])\n",
    "\n",
    "## Display the visualization of the Confusion Matrix.\n",
    "plt.show()"
   ]
  },
  {
   "cell_type": "markdown",
   "id": "4166e474",
   "metadata": {},
   "source": [
    "### XGBoost"
   ]
  },
  {
   "cell_type": "code",
   "execution_count": 42,
   "id": "809893d3",
   "metadata": {
    "ExecuteTime": {
     "end_time": "2022-07-19T21:54:49.539765Z",
     "start_time": "2022-07-19T21:54:49.532754Z"
    }
   },
   "outputs": [],
   "source": [
    "xgb_parameters = {'learning_rate': [0.0001, 0.001, 0.01, 0.1, 0.2, 0.3],\n",
    "               'max_depth' : [1,3,4,8,16],\n",
    "               'min_child_weight' : [1,4,5,8,10],\n",
    "               'colsample_bytree' : [0.6,0.8],\n",
    "               'subsample' : [0.6,0.8,1.0],\n",
    "               'n_estimators' : [200,400,800,1600,6400],\n",
    "               'reg_alpha' : np.arange(0.001, 10, 1) }"
   ]
  },
  {
   "cell_type": "code",
   "execution_count": 43,
   "id": "002092ee",
   "metadata": {
    "ExecuteTime": {
     "end_time": "2022-07-19T21:54:51.071844Z",
     "start_time": "2022-07-19T21:54:51.066840Z"
    }
   },
   "outputs": [],
   "source": [
    "xgb_model = xgb.XGBClassifier(use_label_encoder=False)\n",
    "xgb_clf = GridSearchCV(xgb_model, param_grid = xgb_parameters,cv=cv,scoring='roc_auc')"
   ]
  },
  {
   "cell_type": "code",
   "execution_count": 2,
   "id": "1f993e74",
   "metadata": {
    "ExecuteTime": {
     "end_time": "2022-07-19T15:54:37.371112Z",
     "start_time": "2022-07-19T15:54:37.368110Z"
    }
   },
   "outputs": [],
   "source": [
    "#xgb_clf.fit(X_train,y_train)"
   ]
  },
  {
   "cell_type": "code",
   "execution_count": 40,
   "id": "b9310109",
   "metadata": {
    "ExecuteTime": {
     "end_time": "2022-07-19T15:44:25.409722Z",
     "start_time": "2022-07-19T15:44:25.391709Z"
    }
   },
   "outputs": [
    {
     "name": "stdout",
     "output_type": "stream",
     "text": [
      "The best score is nan with following best parameters {'colsample_bytree': 0.6, 'learning_rate': 0.0001, 'max_depth': 1, 'min_child_weight': 1, 'n_estimators': 200, 'reg_alpha': 0.001, 'subsample': 0.6}\n"
     ]
    }
   ],
   "source": [
    "#print('The best score is', xgb_clf.best_score_,'with following best parameters',xgb_clf.best_params_)"
   ]
  },
  {
   "cell_type": "code",
   "execution_count": 44,
   "id": "0ea919b7",
   "metadata": {
    "ExecuteTime": {
     "end_time": "2022-07-19T21:54:52.455823Z",
     "start_time": "2022-07-19T21:54:52.449818Z"
    }
   },
   "outputs": [],
   "source": [
    "xgb_model = xgb.XGBClassifier(objective= 'binary:logistic',colsample_bytree= 0.6,\n",
    "                              learning_rate=0.0001,n_estimators=200,\n",
    "                              reg_alpha=0.001,max_depth = 1,min_child_weight=1,\n",
    "                              subsample=0.6, use_label_encoder=False, \n",
    "                            seed=42, verbosity=0,#scale_pos_weight = 19)"
   ]
  },
  {
   "cell_type": "code",
   "execution_count": 45,
   "id": "f5717b50",
   "metadata": {
    "ExecuteTime": {
     "end_time": "2022-07-19T21:54:53.504567Z",
     "start_time": "2022-07-19T21:54:53.498560Z"
    }
   },
   "outputs": [],
   "source": [
    "def replace_char(df):\n",
    "    df.columns = df.columns.str.replace(\"_\", \"\")\n",
    "    df.columns = df.columns.str.replace(\",\", \"\")\n",
    "    df.columns = df.columns.str.replace(\"]\", \"\")\n",
    "    df.columns = df.columns.str.replace(\"[\", \"\")"
   ]
  },
  {
   "cell_type": "code",
   "execution_count": 46,
   "id": "585d584a",
   "metadata": {
    "ExecuteTime": {
     "end_time": "2022-07-19T21:54:55.331858Z",
     "start_time": "2022-07-19T21:54:54.355167Z"
    }
   },
   "outputs": [
    {
     "name": "stderr",
     "output_type": "stream",
     "text": [
      "C:\\Users\\Julia\\AppData\\Local\\Temp\\ipykernel_16560\\3710145094.py:4: FutureWarning: The default value of regex will change from True to False in a future version. In addition, single character regular expressions will *not* be treated as literal strings when regex=True.\n",
      "  df.columns = df.columns.str.replace(\"]\", \"\")\n",
      "C:\\Users\\Julia\\AppData\\Local\\Temp\\ipykernel_16560\\3710145094.py:5: FutureWarning: The default value of regex will change from True to False in a future version. In addition, single character regular expressions will *not* be treated as literal strings when regex=True.\n",
      "  df.columns = df.columns.str.replace(\"[\", \"\")\n",
      "C:\\Users\\Julia\\AppData\\Local\\Temp\\ipykernel_16560\\3710145094.py:4: FutureWarning: The default value of regex will change from True to False in a future version. In addition, single character regular expressions will *not* be treated as literal strings when regex=True.\n",
      "  df.columns = df.columns.str.replace(\"]\", \"\")\n",
      "C:\\Users\\Julia\\AppData\\Local\\Temp\\ipykernel_16560\\3710145094.py:5: FutureWarning: The default value of regex will change from True to False in a future version. In addition, single character regular expressions will *not* be treated as literal strings when regex=True.\n",
      "  df.columns = df.columns.str.replace(\"[\", \"\")\n"
     ]
    }
   ],
   "source": [
    "replace_char(X_train)\n",
    "replace_char(X_test)"
   ]
  },
  {
   "cell_type": "code",
   "execution_count": 47,
   "id": "87f22235",
   "metadata": {
    "ExecuteTime": {
     "end_time": "2022-07-19T21:54:57.859647Z",
     "start_time": "2022-07-19T21:54:57.498391Z"
    }
   },
   "outputs": [
    {
     "name": "stderr",
     "output_type": "stream",
     "text": [
      "C:\\Users\\Julia\\anaconda3\\lib\\site-packages\\xgboost\\data.py:262: FutureWarning: pandas.Int64Index is deprecated and will be removed from pandas in a future version. Use pandas.Index with the appropriate dtype instead.\n",
      "  elif isinstance(data.columns, (pd.Int64Index, pd.RangeIndex)):\n"
     ]
    },
    {
     "data": {
      "text/plain": [
       "XGBClassifier(base_score=0.5, booster='gbtree', colsample_bylevel=1,\n",
       "              colsample_bynode=1, colsample_bytree=0.6,\n",
       "              enable_categorical=False, gamma=0, gpu_id=-1,\n",
       "              importance_type=None, interaction_constraints='',\n",
       "              learning_rate=0.0001, max_delta_step=0, max_depth=1,\n",
       "              min_child_weight=1, missing=nan, monotone_constraints='()',\n",
       "              n_estimators=200, n_jobs=8, num_parallel_tree=1, predictor='auto',\n",
       "              random_state=42, reg_alpha=0.001, reg_lambda=1,\n",
       "              scale_pos_weight=19, seed=42, subsample=0.6, tree_method='exact',\n",
       "              use_label_encoder=False, validate_parameters=1, verbosity=0)"
      ]
     },
     "execution_count": 47,
     "metadata": {},
     "output_type": "execute_result"
    }
   ],
   "source": [
    "xgb_model.fit(X_train,y_train)"
   ]
  },
  {
   "cell_type": "code",
   "execution_count": 48,
   "id": "38aa0c11",
   "metadata": {
    "ExecuteTime": {
     "end_time": "2022-07-19T21:55:02.989277Z",
     "start_time": "2022-07-19T21:55:02.907220Z"
    }
   },
   "outputs": [],
   "source": [
    "xgb_probs = xgb_model.predict_proba(X_test)[:, 1]\n",
    "xgb_preds = xgb_model.predict(X_test)"
   ]
  },
  {
   "cell_type": "code",
   "execution_count": 49,
   "id": "1dcd62df",
   "metadata": {
    "ExecuteTime": {
     "end_time": "2022-07-19T21:55:05.749773Z",
     "start_time": "2022-07-19T21:55:05.731760Z"
    }
   },
   "outputs": [
    {
     "name": "stdout",
     "output_type": "stream",
     "text": [
      "XGBoost Classifier\n",
      "\n",
      "ROC AUC: 0.7971\n",
      "              precision    recall  f1-score   support\n",
      "\n",
      "           0       0.97      0.75      0.85      1212\n",
      "           1       0.15      0.66      0.25        82\n",
      "\n",
      "    accuracy                           0.75      1294\n",
      "   macro avg       0.56      0.71      0.55      1294\n",
      "weighted avg       0.92      0.75      0.81      1294\n",
      "\n"
     ]
    }
   ],
   "source": [
    "print(f'XGBoost Classifier\\n')\n",
    "roc = roc_auc_score(y_test, xgb_probs)\n",
    "print(f'ROC AUC: {round(roc, 4)}')\n",
    "print(classification_report(y_test, xgb_preds,zero_division=0))"
   ]
  },
  {
   "cell_type": "code",
   "execution_count": 51,
   "id": "9f77df9c",
   "metadata": {
    "ExecuteTime": {
     "end_time": "2022-07-19T21:55:31.115275Z",
     "start_time": "2022-07-19T21:55:31.110271Z"
    }
   },
   "outputs": [],
   "source": [
    "cf_matrix = confusion_matrix(y_test,xgb_preds)"
   ]
  },
  {
   "cell_type": "code",
   "execution_count": 52,
   "id": "39c36ce4",
   "metadata": {
    "ExecuteTime": {
     "end_time": "2022-07-19T21:55:41.136363Z",
     "start_time": "2022-07-19T21:55:40.890189Z"
    }
   },
   "outputs": [
    {
     "data": {
      "image/png": "[encoded data removed]",
      "text/plain": [
       "<Figure size 432x288 with 2 Axes>"
      ]
     },
     "metadata": {
      "needs_background": "light"
     },
     "output_type": "display_data"
    }
   ],
   "source": [
    "ax =sns.heatmap(cf_matrix/np.sum(cf_matrix), annot=True, \n",
    "            fmt='.2%', cmap='Blues')\n",
    "ax.set_title('Confusion Matrix\\n\\n');\n",
    "ax.set_xlabel('\\nPredicted Values')\n",
    "ax.set_ylabel('Actual Values ');\n",
    "\n",
    "## Ticket labels - List must be in alphabetical order\n",
    "ax.xaxis.set_ticklabels(['False','True'])\n",
    "ax.yaxis.set_ticklabels(['False','True'])\n",
    "\n",
    "## Display the visualization of the Confusion Matrix.\n",
    "plt.show()"
   ]
  },
  {
   "cell_type": "markdown",
   "id": "ba74b4d7",
   "metadata": {},
   "source": [
    "## scale_pos_weight is used to control the balance of positive and negative weights, useful for unbalanced classes. A typical value to consider: sum(negative instances) / sum(positive instances)"
   ]
  },
  {
   "cell_type": "code",
   "execution_count": 32,
   "id": "ed1a3e63",
   "metadata": {
    "ExecuteTime": {
     "end_time": "2022-07-19T16:10:19.028076Z",
     "start_time": "2022-07-19T16:10:18.448439Z"
    }
   },
   "outputs": [
    {
     "name": "stderr",
     "output_type": "stream",
     "text": [
      "C:\\Users\\Julia\\anaconda3\\lib\\site-packages\\sklearn\\base.py:493: FutureWarning: The feature names should match those that were passed during fit. Starting version 1.2, an error will be raised.\n",
      "Feature names unseen at fit time:\n",
      "- ResidencetypeUrban\n",
      "- age(18 30\n",
      "- age(30 45\n",
      "- age(45 60\n",
      "- age(60 80\n",
      "- ...\n",
      "Feature names seen at fit time, yet now missing:\n",
      "- Residence_type_Urban\n",
      "- age_(18, 30]\n",
      "- age_(30, 45]\n",
      "- age_(45, 60]\n",
      "- age_(60, 80]\n",
      "- ...\n",
      "\n",
      "  warnings.warn(message, FutureWarning)\n",
      "C:\\Users\\Julia\\anaconda3\\lib\\site-packages\\sklearn\\base.py:493: FutureWarning: The feature names should match those that were passed during fit. Starting version 1.2, an error will be raised.\n",
      "Feature names unseen at fit time:\n",
      "- ResidencetypeUrban\n",
      "- age(18 30\n",
      "- age(30 45\n",
      "- age(45 60\n",
      "- age(60 80\n",
      "- ...\n",
      "Feature names seen at fit time, yet now missing:\n",
      "- Residence_type_Urban\n",
      "- age_(18, 30]\n",
      "- age_(30, 45]\n",
      "- age_(45, 60]\n",
      "- age_(60, 80]\n",
      "- ...\n",
      "\n",
      "  warnings.warn(message, FutureWarning)\n",
      "C:\\Users\\Julia\\anaconda3\\lib\\site-packages\\xgboost\\data.py:262: FutureWarning: pandas.Int64Index is deprecated and will be removed from pandas in a future version. Use pandas.Index with the appropriate dtype instead.\n",
      "  elif isinstance(data.columns, (pd.Int64Index, pd.RangeIndex)):\n"
     ]
    },
    {
     "data": {
      "image/png": "[encoded data removed]",
      "text/plain": [
       "<Figure size 432x288 with 1 Axes>"
      ]
     },
     "metadata": {
      "needs_background": "light"
     },
     "output_type": "display_data"
    }
   ],
   "source": [
    "ns_probs = [0 for _ in range(len(y_test))]\n",
    "lr_probs = lr_model.predict_proba(X_test)[:, 1]\n",
    "rf_probs = rf_model.predict_proba(X_test)[:, 1]\n",
    "xgb_probs = xgb_model.predict_proba(X_test)[:, 1]\n",
    "ns_auc = roc_auc_score(y_test, ns_probs)\n",
    "lr_auc = roc_auc_score(y_test, lr_probs)\n",
    "rf_auc = roc_auc_score(y_test, rf_probs)\n",
    "xgb_auc = roc_auc_score(y_test, xgb_probs)\n",
    "ns_fpr, ns_tpr, _ = roc_curve(y_test, ns_probs)\n",
    "lr_fpr, lr_tpr, _ = roc_curve(y_test, lr_probs)\n",
    "rf_fpr, rf_tpr, _ = roc_curve(y_test, rf_probs)\n",
    "xgb_fpr, xgb_tpr, _ = roc_curve(y_test, xgb_probs)\n",
    "plt.plot(ns_fpr, ns_tpr, linestyle='--', label='No Skill')\n",
    "plt.plot(lr_fpr, lr_tpr, marker='.',label=('Logistic Regression',round(lr_auc,3)))\n",
    "plt.plot(rf_fpr, rf_tpr, marker='.',label=('Random Forest Classifier',round(rf_auc,3)))\n",
    "plt.plot(xgb_fpr, xgb_tpr, marker='.',label=('XGBoost Classifier',round(xgb_auc,3)))\n",
    "plt.xlabel('False Positive Rate')\n",
    "plt.ylabel('True Positive Rate')\n",
    "plt.legend()\n",
    "plt.show();"
   ]
  }
 ],
 "metadata": {
  "kernelspec": {
   "display_name": "Python 3 (ipykernel)",
   "language": "python",
   "name": "python3"
  },
  "language_info": {
   "codemirror_mode": {
    "name": "ipython",
    "version": 3
   },
   "file_extension": ".py",
   "mimetype": "text/x-python",
   "name": "python",
   "nbconvert_exporter": "python",
   "pygments_lexer": "ipython3",
   "version": "3.9.7"
  }
 },
 "nbformat": 4,
 "nbformat_minor": 5
}
