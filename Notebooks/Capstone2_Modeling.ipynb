{
 "cells": [
  {
   "cell_type": "markdown",
   "id": "ccf22134",
   "metadata": {},
   "source": [
    "## Modeling"
   ]
  },
  {
   "cell_type": "code",
   "execution_count": 708,
   "id": "83f97b58",
   "metadata": {
    "ExecuteTime": {
     "end_time": "2022-07-24T20:09:18.824982Z",
     "start_time": "2022-07-24T20:09:18.818990Z"
    }
   },
   "outputs": [],
   "source": [
    "import numpy as np \n",
    "import pandas as pd \n",
    "import matplotlib.pyplot as plt \n",
    "from matplotlib.ticker import PercentFormatter\n",
    "import seaborn as sns\n",
    "from scipy.stats import loguniform\n",
    "from sklearn.metrics import (roc_auc_score, precision_score,\n",
    "                             recall_score, f1_score,fbeta_score)\n",
    "from sklearn.linear_model import LogisticRegression\n",
    "from sklearn.ensemble import RandomForestClassifier\n",
    "from sklearn.model_selection import RandomizedSearchCV, cross_validate, GridSearchCV\n",
    "from sklearn.model_selection import StratifiedKFold\n",
    "from sklearn.metrics import classification_report,roc_curve, confusion_matrix,brier_score_loss\n",
    "import xgboost as xgb"
   ]
  },
  {
   "cell_type": "code",
   "execution_count": 695,
   "id": "790f6abd",
   "metadata": {
    "ExecuteTime": {
     "end_time": "2022-07-24T20:08:32.216990Z",
     "start_time": "2022-07-24T20:08:32.210971Z"
    }
   },
   "outputs": [],
   "source": [
    "import warnings\n",
    "warnings.filterwarnings('ignore', category=UserWarning, append=True)\n",
    "warnings.filterwarnings('ignore', category=RuntimeWarning, append=True)\n",
    "warnings.filterwarnings('ignore', category=FutureWarning, append=True)\n",
    "warnings.filterwarnings('ignore',category=pd.io.pytables.PerformanceWarning)"
   ]
  },
  {
   "cell_type": "code",
   "execution_count": 696,
   "id": "ef23bd64",
   "metadata": {
    "ExecuteTime": {
     "end_time": "2022-07-24T20:08:32.834520Z",
     "start_time": "2022-07-24T20:08:32.802497Z"
    },
    "scrolled": false
   },
   "outputs": [],
   "source": [
    "X_train = pd.read_csv('../Data/X_train.csv',index_col=0)\n",
    "X_test = pd.read_csv('../Data/X_test.csv',index_col=0)\n",
    "y_train = pd.read_csv('../Data/y_train.csv',index_col=0)\n",
    "y_test = pd.read_csv('../Data/y_test.csv',index_col=0)"
   ]
  },
  {
   "cell_type": "code",
   "execution_count": 697,
   "id": "1a192f78",
   "metadata": {
    "ExecuteTime": {
     "end_time": "2022-07-24T20:08:33.249335Z",
     "start_time": "2022-07-24T20:08:33.245330Z"
    }
   },
   "outputs": [],
   "source": [
    "X_train.reset_index(drop=True,inplace=True)\n",
    "X_test.reset_index(drop=True,inplace=True)\n",
    "y_train.reset_index(drop=True,inplace=True)\n",
    "y_test.reset_index(drop=True,inplace=True)"
   ]
  },
  {
   "cell_type": "code",
   "execution_count": 698,
   "id": "b47f9aec",
   "metadata": {
    "ExecuteTime": {
     "end_time": "2022-07-24T20:08:33.838385Z",
     "start_time": "2022-07-24T20:08:33.834394Z"
    }
   },
   "outputs": [],
   "source": [
    "y_train = y_train.values.ravel()\n",
    "y_test = y_test.values.ravel()"
   ]
  },
  {
   "cell_type": "code",
   "execution_count": 699,
   "id": "3c7e4d9d",
   "metadata": {
    "ExecuteTime": {
     "end_time": "2022-07-24T20:08:34.320895Z",
     "start_time": "2022-07-24T20:08:34.314875Z"
    }
   },
   "outputs": [
    {
     "data": {
      "text/plain": [
       "((3019, 22), (1294, 22), (3019,), (1294,))"
      ]
     },
     "execution_count": 699,
     "metadata": {},
     "output_type": "execute_result"
    }
   ],
   "source": [
    "X_train.shape,X_test.shape,y_train.shape,y_test.shape"
   ]
  },
  {
   "cell_type": "markdown",
   "id": "cf48a264",
   "metadata": {},
   "source": [
    "### StratifiedKFold cross-validator ensures that each fold of the dataset has the same proportion of observations with a given label, therefore it appropriate to use it for this imbalanced dataset."
   ]
  },
  {
   "cell_type": "code",
   "execution_count": 700,
   "id": "c69234e1",
   "metadata": {
    "ExecuteTime": {
     "end_time": "2022-07-24T20:08:35.894493Z",
     "start_time": "2022-07-24T20:08:35.891492Z"
    }
   },
   "outputs": [],
   "source": [
    "cv = StratifiedKFold(n_splits= 5, shuffle=True, random_state=42)"
   ]
  },
  {
   "cell_type": "markdown",
   "id": "350ba577",
   "metadata": {},
   "source": [
    "## Logistic regression"
   ]
  },
  {
   "cell_type": "code",
   "execution_count": 701,
   "id": "b9a7f3d2",
   "metadata": {
    "ExecuteTime": {
     "end_time": "2022-07-24T20:08:37.160725Z",
     "start_time": "2022-07-24T20:08:37.155720Z"
    }
   },
   "outputs": [],
   "source": [
    "lr_parameters = {'solver':['newton-cg', 'lbfgs', 'liblinear', 'sag', 'saga'], \n",
    "              'C':[100, 10, 1.0, 0.1, 0.01],\n",
    "             'penalty':['none', 'l1', 'l2', 'elasticnet']}"
   ]
  },
  {
   "cell_type": "code",
   "execution_count": 702,
   "id": "d91c9a51",
   "metadata": {
    "ExecuteTime": {
     "end_time": "2022-07-24T20:08:37.718555Z",
     "start_time": "2022-07-24T20:08:37.714556Z"
    }
   },
   "outputs": [],
   "source": [
    "lr_model = LogisticRegression()\n",
    "lr_clf = GridSearchCV(lr_model, param_grid = lr_parameters,cv=cv,scoring='roc_auc')"
   ]
  },
  {
   "cell_type": "code",
   "execution_count": 9,
   "id": "d69ef2f6",
   "metadata": {
    "ExecuteTime": {
     "end_time": "2022-07-19T21:52:00.624135Z",
     "start_time": "2022-07-19T21:52:00.619131Z"
    }
   },
   "outputs": [],
   "source": [
    "#lr_clf.fit(X_train, y_train)"
   ]
  },
  {
   "cell_type": "code",
   "execution_count": 17,
   "id": "05d86a31",
   "metadata": {
    "ExecuteTime": {
     "end_time": "2022-07-19T14:17:57.990803Z",
     "start_time": "2022-07-19T14:17:57.985800Z"
    }
   },
   "outputs": [
    {
     "name": "stdout",
     "output_type": "stream",
     "text": [
      "The best score is 0.7939334165696043 with following best parameters {'C': 10, 'penalty': 'l1', 'solver': 'saga'}\n"
     ]
    }
   ],
   "source": [
    "#print('The best score is', lr_clf.best_score_,'with following best parameters',lr_clf.best_params_)"
   ]
  },
  {
   "cell_type": "code",
   "execution_count": 704,
   "id": "a18c509a",
   "metadata": {
    "ExecuteTime": {
     "end_time": "2022-07-24T20:08:48.739980Z",
     "start_time": "2022-07-24T20:08:48.571743Z"
    }
   },
   "outputs": [],
   "source": [
    "lr_model = LogisticRegression(C=10, penalty='elasticnet', \n",
    "                              solver='saga',l1_ratio = 0.1,random_state=50).fit(X_train,y_train)\n",
    "lr_probs = lr_model.predict_proba(X_test)[:, 1]\n",
    "y_pred = lr_model.predict(X_test)"
   ]
  },
  {
   "cell_type": "code",
   "execution_count": 705,
   "id": "0665ee53",
   "metadata": {
    "ExecuteTime": {
     "end_time": "2022-07-24T20:08:50.178553Z",
     "start_time": "2022-07-24T20:08:50.163557Z"
    }
   },
   "outputs": [
    {
     "name": "stdout",
     "output_type": "stream",
     "text": [
      "Logistic Regression\n",
      "\n",
      "ROC AUC: 0.8\n",
      "              precision    recall  f1-score   support\n",
      "\n",
      "           0       0.94      1.00      0.97      1212\n",
      "           1       0.33      0.01      0.02        82\n",
      "\n",
      "    accuracy                           0.94      1294\n",
      "   macro avg       0.64      0.51      0.50      1294\n",
      "weighted avg       0.90      0.94      0.91      1294\n",
      "\n"
     ]
    }
   ],
   "source": [
    "print(f'Logistic Regression\\n')\n",
    "roc = roc_auc_score(y_test, lr_probs)\n",
    "print(f'ROC AUC: {round(roc, 4)}')\n",
    "print(classification_report(y_test, y_pred,zero_division=0))"
   ]
  },
  {
   "cell_type": "code",
   "execution_count": 706,
   "id": "b9983f75",
   "metadata": {
    "ExecuteTime": {
     "end_time": "2022-07-24T20:08:54.298564Z",
     "start_time": "2022-07-24T20:08:54.282543Z"
    }
   },
   "outputs": [
    {
     "name": "stdout",
     "output_type": "stream",
     "text": [
      "              precision    recall  f1-score   support\n",
      "\n",
      "           0       0.98      0.65      0.78      1212\n",
      "           1       0.14      0.83      0.24        82\n",
      "\n",
      "    accuracy                           0.66      1294\n",
      "   macro avg       0.56      0.74      0.51      1294\n",
      "weighted avg       0.93      0.66      0.75      1294\n",
      "\n"
     ]
    }
   ],
   "source": [
    "print(classification_report(y_test,lr_probs > .05))"
   ]
  },
  {
   "cell_type": "code",
   "execution_count": 707,
   "id": "334173f1",
   "metadata": {
    "ExecuteTime": {
     "end_time": "2022-07-24T20:09:05.854135Z",
     "start_time": "2022-07-24T20:09:05.690935Z"
    }
   },
   "outputs": [
    {
     "data": {
      "image/png": "[encoded data removed]",
      "text/plain": [
       "<Figure size 432x288 with 2 Axes>"
      ]
     },
     "metadata": {
      "needs_background": "light"
     },
     "output_type": "display_data"
    }
   ],
   "source": [
    "cf_matrix = confusion_matrix(y_test,y_pred)\n",
    "ax =sns.heatmap(cf_matrix/np.sum(cf_matrix), annot=True, \n",
    "            fmt='.2%', cmap='Blues')\n",
    "ax.set_title('Confusion Matrix\\n\\n');\n",
    "ax.set_xlabel('\\nPredicted Values')\n",
    "ax.set_ylabel('Actual Values ');\n",
    "\n",
    "## Ticket labels - List must be in alphabetical order\n",
    "ax.xaxis.set_ticklabels(['False','True'])\n",
    "ax.yaxis.set_ticklabels(['False','True'])\n",
    "\n",
    "## Display the visualization of the Confusion Matrix.\n",
    "plt.show()"
   ]
  },
  {
   "cell_type": "code",
   "execution_count": 709,
   "id": "d7a0a638",
   "metadata": {
    "ExecuteTime": {
     "end_time": "2022-07-24T20:09:32.360853Z",
     "start_time": "2022-07-24T20:09:32.353846Z"
    }
   },
   "outputs": [
    {
     "data": {
      "text/plain": [
       "0.05555197209244967"
      ]
     },
     "execution_count": 709,
     "metadata": {},
     "output_type": "execute_result"
    }
   ],
   "source": [
    "brier_score_loss(y_test, lr_probs,pos_label=1)"
   ]
  },
  {
   "cell_type": "markdown",
   "id": "fe255ee3",
   "metadata": {},
   "source": [
    "### Random Forest Classifier"
   ]
  },
  {
   "cell_type": "code",
   "execution_count": 710,
   "id": "58e0f11d",
   "metadata": {
    "ExecuteTime": {
     "end_time": "2022-07-24T20:09:35.975368Z",
     "start_time": "2022-07-24T20:09:35.971364Z"
    }
   },
   "outputs": [],
   "source": [
    "parameters_rf = {'n_estimators' : [10, 100, 200, 500, 1000], \n",
    "                'max_features' : ['auto','sqrt', 'log2'],\n",
    "                'criterion':['gini', 'entropy', 'log_loss'],\n",
    "                'max_depth': [10, 20, 30, 40, 50]}"
   ]
  },
  {
   "cell_type": "code",
   "execution_count": 711,
   "id": "0ceaa218",
   "metadata": {
    "ExecuteTime": {
     "end_time": "2022-07-24T20:09:37.514032Z",
     "start_time": "2022-07-24T20:09:37.498035Z"
    }
   },
   "outputs": [],
   "source": [
    "rf_model = RandomForestClassifier()\n",
    "rf_clf = GridSearchCV(rf_model, param_grid = parameters_rf,cv=cv,scoring='roc_auc')"
   ]
  },
  {
   "cell_type": "code",
   "execution_count": 36,
   "id": "0549b337",
   "metadata": {
    "ExecuteTime": {
     "end_time": "2022-07-19T21:53:44.238439Z",
     "start_time": "2022-07-19T21:53:44.235437Z"
    }
   },
   "outputs": [],
   "source": [
    "#rf_clf.fit(X_train, y_train)"
   ]
  },
  {
   "cell_type": "code",
   "execution_count": 27,
   "id": "07b6a75a",
   "metadata": {
    "ExecuteTime": {
     "end_time": "2022-07-19T14:38:59.891438Z",
     "start_time": "2022-07-19T14:38:59.886435Z"
    }
   },
   "outputs": [
    {
     "name": "stdout",
     "output_type": "stream",
     "text": [
      "The best score is 0.7584461073077536 with following best parameters {'criterion': 'entropy', 'max_depth': 10, 'max_features': 'auto', 'n_estimators': 100}\n"
     ]
    }
   ],
   "source": [
    "#print('The best score is', rf_clf.best_score_,'with following best parameters',rf_clf.best_params_)"
   ]
  },
  {
   "cell_type": "code",
   "execution_count": 712,
   "id": "f0cd118d",
   "metadata": {
    "ExecuteTime": {
     "end_time": "2022-07-24T20:09:40.822956Z",
     "start_time": "2022-07-24T20:09:38.226387Z"
    }
   },
   "outputs": [],
   "source": [
    "rf_model = RandomForestClassifier(criterion='entropy',max_depth=10,\n",
    "                                  max_features='sqrt',n_estimators=1000,\n",
    "                                  random_state=50)\n",
    "rf_model.fit(X_train, y_train)\n",
    "rf_probs = rf_model.predict_proba(X_test)[:, 1]\n",
    "rf_preds = rf_model.predict(X_test)"
   ]
  },
  {
   "cell_type": "code",
   "execution_count": 713,
   "id": "80da9624",
   "metadata": {
    "ExecuteTime": {
     "end_time": "2022-07-24T20:09:41.506005Z",
     "start_time": "2022-07-24T20:09:41.490995Z"
    }
   },
   "outputs": [
    {
     "name": "stdout",
     "output_type": "stream",
     "text": [
      "Random Forest Classifier\n",
      "\n",
      "ROC AUC: 0.7805\n",
      "              precision    recall  f1-score   support\n",
      "\n",
      "           0       0.94      1.00      0.97      1212\n",
      "           1       0.25      0.01      0.02        82\n",
      "\n",
      "    accuracy                           0.94      1294\n",
      "   macro avg       0.59      0.50      0.49      1294\n",
      "weighted avg       0.89      0.94      0.91      1294\n",
      "\n"
     ]
    }
   ],
   "source": [
    "print(f'Random Forest Classifier\\n')\n",
    "roc = roc_auc_score(y_test, rf_probs)\n",
    "print(f'ROC AUC: {round(roc, 4)}')\n",
    "print(classification_report(y_test, rf_preds,zero_division=0))"
   ]
  },
  {
   "cell_type": "code",
   "execution_count": 741,
   "id": "9694be18",
   "metadata": {
    "ExecuteTime": {
     "end_time": "2022-07-24T20:15:22.614770Z",
     "start_time": "2022-07-24T20:15:22.442811Z"
    }
   },
   "outputs": [
    {
     "data": {
      "image/png": "[encoded data removed]",
      "text/plain": [
       "<Figure size 432x288 with 2 Axes>"
      ]
     },
     "metadata": {
      "needs_background": "light"
     },
     "output_type": "display_data"
    }
   ],
   "source": [
    "cf_matrix = confusion_matrix(y_test,rf_preds)\n",
    "ax =sns.heatmap(cf_matrix/np.sum(cf_matrix), annot=True, \n",
    "            fmt='.2%', cmap='Blues')\n",
    "ax.set_title('Confusion Matrix\\n\\n');\n",
    "ax.set_xlabel('\\nPredicted Values')\n",
    "ax.set_ylabel('Actual Values ');\n",
    "\n",
    "## Ticket labels - List must be in alphabetical order\n",
    "ax.xaxis.set_ticklabels(['False','True'])\n",
    "ax.yaxis.set_ticklabels(['False','True'])\n",
    "\n",
    "## Display the visualization of the Confusion Matrix.\n",
    "plt.show()"
   ]
  },
  {
   "cell_type": "code",
   "execution_count": 716,
   "id": "d086b15f",
   "metadata": {
    "ExecuteTime": {
     "end_time": "2022-07-24T20:09:45.027016Z",
     "start_time": "2022-07-24T20:09:45.019010Z"
    }
   },
   "outputs": [
    {
     "data": {
      "text/plain": [
       "0.05667706491724373"
      ]
     },
     "execution_count": 716,
     "metadata": {},
     "output_type": "execute_result"
    }
   ],
   "source": [
    "from sklearn.metrics import brier_score_loss\n",
    "brier_score_loss(y_test, rf_probs,pos_label=1)"
   ]
  },
  {
   "cell_type": "markdown",
   "id": "4166e474",
   "metadata": {},
   "source": [
    "### XGBoost"
   ]
  },
  {
   "cell_type": "code",
   "execution_count": 718,
   "id": "809893d3",
   "metadata": {
    "ExecuteTime": {
     "end_time": "2022-07-24T20:09:53.169480Z",
     "start_time": "2022-07-24T20:09:53.163475Z"
    }
   },
   "outputs": [],
   "source": [
    "xgb_parameters = {'learning_rate': [0.0001, 0.001, 0.01, 0.1, 0.2, 0.3],\n",
    "               'max_depth' : [1,3,4,8,16],\n",
    "               'min_child_weight' : [1,4,5,8,10],\n",
    "               'colsample_bytree' : [0.6,0.8],\n",
    "               'subsample' : [0.6,0.8,1.0],\n",
    "               'n_estimators' : [200,400,800,1600,6400],\n",
    "               'reg_alpha' : np.arange(0.001, 10, 1) }"
   ]
  },
  {
   "cell_type": "code",
   "execution_count": 719,
   "id": "002092ee",
   "metadata": {
    "ExecuteTime": {
     "end_time": "2022-07-24T20:09:54.519497Z",
     "start_time": "2022-07-24T20:09:54.513493Z"
    }
   },
   "outputs": [],
   "source": [
    "xgb_model = xgb.XGBClassifier(use_label_encoder=False)\n",
    "xgb_clf = GridSearchCV(xgb_model, param_grid = xgb_parameters,cv=cv,scoring='roc_auc')"
   ]
  },
  {
   "cell_type": "code",
   "execution_count": 2,
   "id": "1f993e74",
   "metadata": {
    "ExecuteTime": {
     "end_time": "2022-07-19T15:54:37.371112Z",
     "start_time": "2022-07-19T15:54:37.368110Z"
    }
   },
   "outputs": [],
   "source": [
    "#xgb_clf.fit(X_train,y_train)"
   ]
  },
  {
   "cell_type": "code",
   "execution_count": 40,
   "id": "b9310109",
   "metadata": {
    "ExecuteTime": {
     "end_time": "2022-07-19T15:44:25.409722Z",
     "start_time": "2022-07-19T15:44:25.391709Z"
    }
   },
   "outputs": [
    {
     "name": "stdout",
     "output_type": "stream",
     "text": [
      "The best score is nan with following best parameters {'colsample_bytree': 0.6, 'learning_rate': 0.0001, 'max_depth': 1, 'min_child_weight': 1, 'n_estimators': 200, 'reg_alpha': 0.001, 'subsample': 0.6}\n"
     ]
    }
   ],
   "source": [
    "#print('The best score is', xgb_clf.best_score_,'with following best parameters',xgb_clf.best_params_)"
   ]
  },
  {
   "cell_type": "code",
   "execution_count": 720,
   "id": "340e2859",
   "metadata": {
    "ExecuteTime": {
     "end_time": "2022-07-24T20:09:55.854607Z",
     "start_time": "2022-07-24T20:09:55.849604Z"
    }
   },
   "outputs": [],
   "source": [
    "xgb_model = xgb.XGBClassifier(booster='dart',eta=0.001,\n",
    "                              num_round = 19,\n",
    "                              gamma=0.2, max_depth =4,\n",
    "                              reg_alpha = 0.001,\n",
    "                              n_estimators=1000,\n",
    "                              min_child_weight = 2,\n",
    "                            seed=42, verbosity=0)\n"
   ]
  },
  {
   "cell_type": "code",
   "execution_count": 722,
   "id": "f5717b50",
   "metadata": {
    "ExecuteTime": {
     "end_time": "2022-07-24T20:09:59.063945Z",
     "start_time": "2022-07-24T20:09:59.057942Z"
    }
   },
   "outputs": [],
   "source": [
    "def replace_char(df):\n",
    "    df.columns = df.columns.str.replace(\"_\", \"\")\n",
    "    df.columns = df.columns.str.replace(\",\", \"\")\n",
    "    df.columns = df.columns.str.replace(\"]\", \"\")\n",
    "    df.columns = df.columns.str.replace(\"[\", \"\")"
   ]
  },
  {
   "cell_type": "code",
   "execution_count": 723,
   "id": "585d584a",
   "metadata": {
    "ExecuteTime": {
     "end_time": "2022-07-24T20:09:59.750037Z",
     "start_time": "2022-07-24T20:09:59.675968Z"
    }
   },
   "outputs": [],
   "source": [
    "replace_char(X_train)\n",
    "replace_char(X_test)"
   ]
  },
  {
   "cell_type": "code",
   "execution_count": 724,
   "id": "87f22235",
   "metadata": {
    "ExecuteTime": {
     "end_time": "2022-07-24T20:11:10.151179Z",
     "start_time": "2022-07-24T20:10:00.346536Z"
    }
   },
   "outputs": [
    {
     "data": {
      "text/plain": [
       "XGBClassifier(base_score=0.5, booster='dart', colsample_bylevel=1,\n",
       "              colsample_bynode=1, colsample_bytree=1, enable_categorical=False,\n",
       "              eta=0.001, gamma=0.2, gpu_id=-1, importance_type=None,\n",
       "              interaction_constraints='', learning_rate=0.00100000005,\n",
       "              max_delta_step=0, max_depth=4, min_child_weight=2, missing=nan,\n",
       "              monotone_constraints='()', n_estimators=1000, n_jobs=8,\n",
       "              num_parallel_tree=1, num_round=19, predictor='auto',\n",
       "              random_state=42, reg_alpha=0.001, reg_lambda=1,\n",
       "              scale_pos_weight=1, seed=42, subsample=1, tree_method='exact',\n",
       "              validate_parameters=1, ...)"
      ]
     },
     "execution_count": 724,
     "metadata": {},
     "output_type": "execute_result"
    }
   ],
   "source": [
    "xgb_model.fit(X_train,y_train)"
   ]
  },
  {
   "cell_type": "code",
   "execution_count": 725,
   "id": "38aa0c11",
   "metadata": {
    "ExecuteTime": {
     "end_time": "2022-07-24T20:11:15.983422Z",
     "start_time": "2022-07-24T20:11:15.515093Z"
    }
   },
   "outputs": [],
   "source": [
    "xgb_probs = xgb_model.predict_proba(X_test)[:, 1]\n",
    "xgb_preds = xgb_model.predict(X_test)"
   ]
  },
  {
   "cell_type": "code",
   "execution_count": 726,
   "id": "ad325e1c",
   "metadata": {
    "ExecuteTime": {
     "end_time": "2022-07-24T20:11:16.868499Z",
     "start_time": "2022-07-24T20:11:16.851486Z"
    }
   },
   "outputs": [
    {
     "name": "stdout",
     "output_type": "stream",
     "text": [
      "XGBoost Classifier\n",
      "\n",
      "ROC AUC: 0.808\n",
      "              precision    recall  f1-score   support\n",
      "\n",
      "           0       0.94      1.00      0.97      1212\n",
      "           1       0.40      0.05      0.09        82\n",
      "\n",
      "    accuracy                           0.94      1294\n",
      "   macro avg       0.67      0.52      0.53      1294\n",
      "weighted avg       0.91      0.94      0.91      1294\n",
      "\n"
     ]
    }
   ],
   "source": [
    "print(f'XGBoost Classifier\\n')\n",
    "roc = roc_auc_score(y_test, xgb_probs)\n",
    "print(f'ROC AUC: {round(roc, 4)}')\n",
    "print(classification_report(y_test, xgb_preds,zero_division=0))"
   ]
  },
  {
   "cell_type": "code",
   "execution_count": 727,
   "id": "3f26a503",
   "metadata": {
    "ExecuteTime": {
     "end_time": "2022-07-24T20:11:19.141510Z",
     "start_time": "2022-07-24T20:11:19.137500Z"
    }
   },
   "outputs": [],
   "source": [
    "cf_matrix = confusion_matrix(y_test,xgb_preds)"
   ]
  },
  {
   "cell_type": "code",
   "execution_count": 728,
   "id": "a2c194f3",
   "metadata": {
    "ExecuteTime": {
     "end_time": "2022-07-24T20:11:20.247346Z",
     "start_time": "2022-07-24T20:11:20.098239Z"
    }
   },
   "outputs": [
    {
     "data": {
      "image/png": "[encoded data removed]",
      "text/plain": [
       "<Figure size 432x288 with 2 Axes>"
      ]
     },
     "metadata": {
      "needs_background": "light"
     },
     "output_type": "display_data"
    }
   ],
   "source": [
    "ax =sns.heatmap(cf_matrix/np.sum(cf_matrix), annot=True, \n",
    "            fmt='.2%', cmap='Blues')\n",
    "ax.set_title('Confusion Matrix\\n\\n');\n",
    "ax.set_xlabel('\\nPredicted Values')\n",
    "ax.set_ylabel('Actual Values ');\n",
    "\n",
    "## Ticket labels - List must be in alphabetical order\n",
    "ax.xaxis.set_ticklabels(['False','True'])\n",
    "ax.yaxis.set_ticklabels(['False','True'])\n",
    "\n",
    "## Display the visualization of the Confusion Matrix.\n",
    "plt.show()"
   ]
  },
  {
   "cell_type": "code",
   "execution_count": 729,
   "id": "27b7fe7b",
   "metadata": {
    "ExecuteTime": {
     "end_time": "2022-07-24T20:11:24.256457Z",
     "start_time": "2022-07-24T20:11:24.249451Z"
    }
   },
   "outputs": [
    {
     "data": {
      "text/plain": [
       "0.0790694400502368"
      ]
     },
     "execution_count": 729,
     "metadata": {},
     "output_type": "execute_result"
    }
   ],
   "source": [
    "from sklearn.metrics import brier_score_loss\n",
    "brier_score_loss(y_test, xgb_probs,pos_label=1)"
   ]
  },
  {
   "cell_type": "markdown",
   "id": "ba74b4d7",
   "metadata": {},
   "source": [
    "## scale_pos_weight is used to control the balance of positive and negative weights, useful for unbalanced classes. A typical value to consider: sum(negative instances) / sum(positive instances)"
   ]
  },
  {
   "cell_type": "code",
   "execution_count": 730,
   "id": "ed1a3e63",
   "metadata": {
    "ExecuteTime": {
     "end_time": "2022-07-24T20:11:26.581131Z",
     "start_time": "2022-07-24T20:11:25.827579Z"
    }
   },
   "outputs": [
    {
     "data": {
      "image/png": "[encoded data removed]",
      "text/plain": [
       "<Figure size 432x288 with 1 Axes>"
      ]
     },
     "metadata": {
      "needs_background": "light"
     },
     "output_type": "display_data"
    }
   ],
   "source": [
    "ns_probs = [0 for _ in range(len(y_test))]\n",
    "lr_probs = lr_model.predict_proba(X_test)[:, 1]\n",
    "rf_probs = rf_model.predict_proba(X_test)[:, 1]\n",
    "xgb_probs = xgb_model.predict_proba(X_test)[:, 1]\n",
    "ns_auc = roc_auc_score(y_test, ns_probs)\n",
    "lr_auc = roc_auc_score(y_test, lr_probs)\n",
    "rf_auc = roc_auc_score(y_test, rf_probs)\n",
    "xgb_auc = roc_auc_score(y_test, xgb_probs)\n",
    "ns_fpr, ns_tpr, _ = roc_curve(y_test, ns_probs)\n",
    "lr_fpr, lr_tpr, _ = roc_curve(y_test, lr_probs)\n",
    "rf_fpr, rf_tpr, _ = roc_curve(y_test, rf_probs)\n",
    "xgb_fpr, xgb_tpr, _ = roc_curve(y_test, xgb_probs)\n",
    "plt.plot(ns_fpr, ns_tpr, linestyle='--', label='No Skill')\n",
    "plt.plot(lr_fpr, lr_tpr, marker='.',label=('Logistic Regression',round(lr_auc,3)))\n",
    "plt.plot(rf_fpr, rf_tpr, marker='.',label=('Random Forest Classifier',round(rf_auc,3)))\n",
    "plt.plot(xgb_fpr, xgb_tpr, marker='.',label=('XGBoost Classifier',round(xgb_auc,3)))\n",
    "plt.xlabel('False Positive Rate')\n",
    "plt.ylabel('True Positive Rate')\n",
    "plt.legend()\n",
    "plt.show();"
   ]
  },
  {
   "cell_type": "markdown",
   "id": "26ca5f02",
   "metadata": {},
   "source": [
    "### Even though XGBoost Classifier has a slightly higher ROC-AUC score than Logistic Regression, I will use Logistic Regression as my final model as it has better brier score."
   ]
  },
  {
   "cell_type": "markdown",
   "id": "37257cd9",
   "metadata": {},
   "source": [
    "### Calculating presicion-recall based on different beta thresholds"
   ]
  },
  {
   "cell_type": "code",
   "execution_count": 844,
   "id": "c1db4e2b",
   "metadata": {
    "ExecuteTime": {
     "end_time": "2022-07-24T20:49:27.305848Z",
     "start_time": "2022-07-24T20:49:27.300828Z"
    }
   },
   "outputs": [],
   "source": [
    "def thr(threshold):\n",
    "    y_pred = (lr_model.predict_proba(X_test)[:,1] >= threshold)\n",
    "    p = precision_score(y_test,y_pred)\n",
    "    r = recall_score(y_test,y_pred)\n",
    "    f = fbeta_score(y_test, y_pred,beta=1)\n",
    "    return p,r,f"
   ]
  },
  {
   "cell_type": "code",
   "execution_count": 845,
   "id": "05fe7a63",
   "metadata": {
    "ExecuteTime": {
     "end_time": "2022-07-24T20:49:32.319462Z",
     "start_time": "2022-07-24T20:49:28.621163Z"
    }
   },
   "outputs": [],
   "source": [
    "thr_dict = {}\n",
    "for threshold in sorted(list(set(lr_model.predict_proba(X_test)[:,1]))):\n",
    "    p,r,f = thr(threshold)\n",
    "    thr_dict[threshold] = p,r,f"
   ]
  },
  {
   "cell_type": "code",
   "execution_count": 846,
   "id": "06f0fd8d",
   "metadata": {
    "ExecuteTime": {
     "end_time": "2022-07-24T20:49:33.460626Z",
     "start_time": "2022-07-24T20:49:33.427601Z"
    }
   },
   "outputs": [],
   "source": [
    "res = pd.DataFrame.from_dict(thr_dict).T.rename(columns={\"index\": \"Threshold\", 0: \"Precision\",\n",
    "                                                                              1: \"Recall\",2:'F_beta'})"
   ]
  },
  {
   "cell_type": "markdown",
   "id": "2a8726e0",
   "metadata": {},
   "source": [
    "### Considering that Type 2 error are more important that Type 1 error in case of prediction of health conditions, we are going to favor higher recall over precision. Therefore optimal threshold "
   ]
  },
  {
   "cell_type": "code",
   "execution_count": 858,
   "id": "9ccd4647",
   "metadata": {
    "ExecuteTime": {
     "end_time": "2022-07-24T20:55:00.648762Z",
     "start_time": "2022-07-24T20:55:00.404591Z"
    }
   },
   "outputs": [
    {
     "data": {
      "image/png": "[encoded data removed]",
      "text/plain": [
       "<Figure size 1080x648 with 1 Axes>"
      ]
     },
     "metadata": {
      "needs_background": "light"
     },
     "output_type": "display_data"
    }
   ],
   "source": [
    "ax = res.plot(figsize=(15,9))\n",
    "ax.set_xlabel('Threshold')\n",
    "ax.set_ylabel('Value')\n",
    "ax.set_title('Precision-Recall vs. Threshold')\n",
    "ax.axvline(0.5, color ='black', alpha = 0.3)\n",
    "ax.text(.49,.5,'Default Threshold F0.5',rotation=90, alpha=0.8, fontsize=16)\n",
    "ax.axvline(0.1, color ='black', alpha = 0.3)\n",
    "ax.text(.09,.5,'Optimal Threshold F0.5',rotation=90, alpha=0.8, fontsize=16);"
   ]
  },
  {
   "cell_type": "markdown",
   "id": "305241c9",
   "metadata": {},
   "source": [
    "### Final results"
   ]
  },
  {
   "cell_type": "code",
   "execution_count": 859,
   "id": "96af7171",
   "metadata": {
    "ExecuteTime": {
     "end_time": "2022-07-24T20:56:45.752695Z",
     "start_time": "2022-07-24T20:56:45.740197Z"
    }
   },
   "outputs": [
    {
     "name": "stdout",
     "output_type": "stream",
     "text": [
      "              precision    recall  f1-score   support\n",
      "\n",
      "           0       0.96      0.90      0.93      1212\n",
      "           1       0.22      0.43      0.29        82\n",
      "\n",
      "    accuracy                           0.87      1294\n",
      "   macro avg       0.59      0.66      0.61      1294\n",
      "weighted avg       0.91      0.87      0.89      1294\n",
      "\n"
     ]
    }
   ],
   "source": [
    "print(classification_report(y_test,lr_probs > .117))"
   ]
  },
  {
   "cell_type": "code",
   "execution_count": 860,
   "id": "f6ea3aca",
   "metadata": {
    "ExecuteTime": {
     "end_time": "2022-07-24T20:56:48.483071Z",
     "start_time": "2022-07-24T20:56:48.316967Z"
    }
   },
   "outputs": [
    {
     "data": {
      "image/png": "[encoded data removed]",
      "text/plain": [
       "<Figure size 432x288 with 2 Axes>"
      ]
     },
     "metadata": {
      "needs_background": "light"
     },
     "output_type": "display_data"
    }
   ],
   "source": [
    "cf_matrix = confusion_matrix(y_test,lr_probs > .117)\n",
    "ax =sns.heatmap(cf_matrix/np.sum(cf_matrix), annot=True, \n",
    "            fmt='.2%', cmap='Blues')\n",
    "ax.set_title('Confusion Matrix\\n\\n');\n",
    "ax.set_xlabel('\\nPredicted Values')\n",
    "ax.set_ylabel('Actual Values ');\n",
    "\n",
    "## Ticket labels - List must be in alphabetical order\n",
    "ax.xaxis.set_ticklabels(['False','True'])\n",
    "ax.yaxis.set_ticklabels(['False','True'])\n",
    "\n",
    "## Display the visualization of the Confusion Matrix.\n",
    "plt.show()"
   ]
  },
  {
   "cell_type": "code",
   "execution_count": 854,
   "id": "7887214e",
   "metadata": {
    "ExecuteTime": {
     "end_time": "2022-07-24T20:51:19.174551Z",
     "start_time": "2022-07-24T20:51:18.228492Z"
    }
   },
   "outputs": [
    {
     "name": "stdout",
     "output_type": "stream",
     "text": [
      "Threshold=0.224, F-Score=0.25168\n"
     ]
    }
   ],
   "source": [
    "def to_labels(pos_probs, threshold):\n",
    "\treturn (pos_probs >= threshold).astype('int')\n",
    "yhat = lr_model.predict_proba(X_test)\n",
    "# keep probabilities for the positive outcome only\n",
    "probs = yhat[:, 1]\n",
    "# define thresholds\n",
    "thresholds = np.arange(0, 1, 0.001)\n",
    "# evaluate each threshold\n",
    "scores = [fbeta_score(y_test, to_labels(probs, t),beta=0.5) for t in thresholds]\n",
    "# get best threshold\n",
    "ix = np.argmax(scores)\n",
    "print('Threshold=%.3f, F-Score=%.5f' % (thresholds[ix], scores[ix]))"
   ]
  }
 ],
 "metadata": {
  "kernelspec": {
   "display_name": "Python 3 (ipykernel)",
   "language": "python",
   "name": "python3"
  },
  "language_info": {
   "codemirror_mode": {
    "name": "ipython",
    "version": 3
   },
   "file_extension": ".py",
   "mimetype": "text/x-python",
   "name": "python",
   "nbconvert_exporter": "python",
   "pygments_lexer": "ipython3",
   "version": "3.9.7"
  }
 },
 "nbformat": 4,
 "nbformat_minor": 5
}
